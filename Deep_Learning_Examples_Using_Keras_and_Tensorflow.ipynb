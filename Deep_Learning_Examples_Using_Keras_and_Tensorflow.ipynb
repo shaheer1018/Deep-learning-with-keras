{
  "nbformat": 4,
  "nbformat_minor": 0,
  "metadata": {
    "colab": {
      "provenance": []
    },
    "kernelspec": {
      "name": "python3",
      "display_name": "Python 3"
    },
    "language_info": {
      "name": "python"
    }
  },
  "cells": [
    {
      "cell_type": "code",
      "execution_count": null,
      "metadata": {
        "id": "bHBFIbMQDY-8"
      },
      "outputs": [],
      "source": [
        "import os\n",
        "import numpy as np\n",
        "import pandas as pd\n",
        "from keras.models import Sequential\n",
        "from keras.layers import Dense"
      ]
    },
    {
      "cell_type": "code",
      "source": [
        "# load the dataset\n",
        "df = pd.read_csv(\"diabetes.csv\", delimiter = \",\")"
      ],
      "metadata": {
        "id": "o0EOcThIDt8_"
      },
      "execution_count": null,
      "outputs": []
    },
    {
      "cell_type": "code",
      "source": [
        "df.head(5)"
      ],
      "metadata": {
        "colab": {
          "base_uri": "https://localhost:8080/",
          "height": 226
        },
        "id": "G9LcH0o9DyrP",
        "outputId": "a87e2f88-5b4d-4b54-ac29-226e9026b813"
      },
      "execution_count": null,
      "outputs": [
        {
          "output_type": "execute_result",
          "data": {
            "text/plain": [
              "   Pregnancies  Glucose  BloodPressure  SkinThickness  ...   BMI  DiabetesPedigreeFunction  Age  Outcome\n",
              "0            6      148             72             35  ...  33.6                     0.627   50        1\n",
              "1            1       85             66             29  ...  26.6                     0.351   31        0\n",
              "2            8      183             64              0  ...  23.3                     0.672   32        1\n",
              "3            1       89             66             23  ...  28.1                     0.167   21        0\n",
              "4            0      137             40             35  ...  43.1                     2.288   33        1\n",
              "\n",
              "[5 rows x 9 columns]"
            ],
            "text/html": [
              "\n",
              "  <div id=\"df-a6a7d2f8-336e-46d2-8957-244c81661e8c\" class=\"colab-df-container\">\n",
              "    <div>\n",
              "<style scoped>\n",
              "    .dataframe tbody tr th:only-of-type {\n",
              "        vertical-align: middle;\n",
              "    }\n",
              "\n",
              "    .dataframe tbody tr th {\n",
              "        vertical-align: top;\n",
              "    }\n",
              "\n",
              "    .dataframe thead th {\n",
              "        text-align: right;\n",
              "    }\n",
              "</style>\n",
              "<table border=\"1\" class=\"dataframe\">\n",
              "  <thead>\n",
              "    <tr style=\"text-align: right;\">\n",
              "      <th></th>\n",
              "      <th>Pregnancies</th>\n",
              "      <th>Glucose</th>\n",
              "      <th>BloodPressure</th>\n",
              "      <th>SkinThickness</th>\n",
              "      <th>Insulin</th>\n",
              "      <th>BMI</th>\n",
              "      <th>DiabetesPedigreeFunction</th>\n",
              "      <th>Age</th>\n",
              "      <th>Outcome</th>\n",
              "    </tr>\n",
              "  </thead>\n",
              "  <tbody>\n",
              "    <tr>\n",
              "      <th>0</th>\n",
              "      <td>6</td>\n",
              "      <td>148</td>\n",
              "      <td>72</td>\n",
              "      <td>35</td>\n",
              "      <td>0</td>\n",
              "      <td>33.6</td>\n",
              "      <td>0.627</td>\n",
              "      <td>50</td>\n",
              "      <td>1</td>\n",
              "    </tr>\n",
              "    <tr>\n",
              "      <th>1</th>\n",
              "      <td>1</td>\n",
              "      <td>85</td>\n",
              "      <td>66</td>\n",
              "      <td>29</td>\n",
              "      <td>0</td>\n",
              "      <td>26.6</td>\n",
              "      <td>0.351</td>\n",
              "      <td>31</td>\n",
              "      <td>0</td>\n",
              "    </tr>\n",
              "    <tr>\n",
              "      <th>2</th>\n",
              "      <td>8</td>\n",
              "      <td>183</td>\n",
              "      <td>64</td>\n",
              "      <td>0</td>\n",
              "      <td>0</td>\n",
              "      <td>23.3</td>\n",
              "      <td>0.672</td>\n",
              "      <td>32</td>\n",
              "      <td>1</td>\n",
              "    </tr>\n",
              "    <tr>\n",
              "      <th>3</th>\n",
              "      <td>1</td>\n",
              "      <td>89</td>\n",
              "      <td>66</td>\n",
              "      <td>23</td>\n",
              "      <td>94</td>\n",
              "      <td>28.1</td>\n",
              "      <td>0.167</td>\n",
              "      <td>21</td>\n",
              "      <td>0</td>\n",
              "    </tr>\n",
              "    <tr>\n",
              "      <th>4</th>\n",
              "      <td>0</td>\n",
              "      <td>137</td>\n",
              "      <td>40</td>\n",
              "      <td>35</td>\n",
              "      <td>168</td>\n",
              "      <td>43.1</td>\n",
              "      <td>2.288</td>\n",
              "      <td>33</td>\n",
              "      <td>1</td>\n",
              "    </tr>\n",
              "  </tbody>\n",
              "</table>\n",
              "</div>\n",
              "    <div class=\"colab-df-buttons\">\n",
              "\n",
              "  <div class=\"colab-df-container\">\n",
              "    <button class=\"colab-df-convert\" onclick=\"convertToInteractive('df-a6a7d2f8-336e-46d2-8957-244c81661e8c')\"\n",
              "            title=\"Convert this dataframe to an interactive table.\"\n",
              "            style=\"display:none;\">\n",
              "\n",
              "  <svg xmlns=\"http://www.w3.org/2000/svg\" height=\"24px\" viewBox=\"0 -960 960 960\">\n",
              "    <path d=\"M120-120v-720h720v720H120Zm60-500h600v-160H180v160Zm220 220h160v-160H400v160Zm0 220h160v-160H400v160ZM180-400h160v-160H180v160Zm440 0h160v-160H620v160ZM180-180h160v-160H180v160Zm440 0h160v-160H620v160Z\"/>\n",
              "  </svg>\n",
              "    </button>\n",
              "\n",
              "  <style>\n",
              "    .colab-df-container {\n",
              "      display:flex;\n",
              "      gap: 12px;\n",
              "    }\n",
              "\n",
              "    .colab-df-convert {\n",
              "      background-color: #E8F0FE;\n",
              "      border: none;\n",
              "      border-radius: 50%;\n",
              "      cursor: pointer;\n",
              "      display: none;\n",
              "      fill: #1967D2;\n",
              "      height: 32px;\n",
              "      padding: 0 0 0 0;\n",
              "      width: 32px;\n",
              "    }\n",
              "\n",
              "    .colab-df-convert:hover {\n",
              "      background-color: #E2EBFA;\n",
              "      box-shadow: 0px 1px 2px rgba(60, 64, 67, 0.3), 0px 1px 3px 1px rgba(60, 64, 67, 0.15);\n",
              "      fill: #174EA6;\n",
              "    }\n",
              "\n",
              "    .colab-df-buttons div {\n",
              "      margin-bottom: 4px;\n",
              "    }\n",
              "\n",
              "    [theme=dark] .colab-df-convert {\n",
              "      background-color: #3B4455;\n",
              "      fill: #D2E3FC;\n",
              "    }\n",
              "\n",
              "    [theme=dark] .colab-df-convert:hover {\n",
              "      background-color: #434B5C;\n",
              "      box-shadow: 0px 1px 3px 1px rgba(0, 0, 0, 0.15);\n",
              "      filter: drop-shadow(0px 1px 2px rgba(0, 0, 0, 0.3));\n",
              "      fill: #FFFFFF;\n",
              "    }\n",
              "  </style>\n",
              "\n",
              "    <script>\n",
              "      const buttonEl =\n",
              "        document.querySelector('#df-a6a7d2f8-336e-46d2-8957-244c81661e8c button.colab-df-convert');\n",
              "      buttonEl.style.display =\n",
              "        google.colab.kernel.accessAllowed ? 'block' : 'none';\n",
              "\n",
              "      async function convertToInteractive(key) {\n",
              "        const element = document.querySelector('#df-a6a7d2f8-336e-46d2-8957-244c81661e8c');\n",
              "        const dataTable =\n",
              "          await google.colab.kernel.invokeFunction('convertToInteractive',\n",
              "                                                    [key], {});\n",
              "        if (!dataTable) return;\n",
              "\n",
              "        const docLinkHtml = 'Like what you see? Visit the ' +\n",
              "          '<a target=\"_blank\" href=https://colab.research.google.com/notebooks/data_table.ipynb>data table notebook</a>'\n",
              "          + ' to learn more about interactive tables.';\n",
              "        element.innerHTML = '';\n",
              "        dataTable['output_type'] = 'display_data';\n",
              "        await google.colab.output.renderOutput(dataTable, element);\n",
              "        const docLink = document.createElement('div');\n",
              "        docLink.innerHTML = docLinkHtml;\n",
              "        element.appendChild(docLink);\n",
              "      }\n",
              "    </script>\n",
              "  </div>\n",
              "\n",
              "\n",
              "<div id=\"df-b183a1f2-598d-4e24-8b8f-5dffdf3fbdf0\">\n",
              "  <button class=\"colab-df-quickchart\" onclick=\"quickchart('df-b183a1f2-598d-4e24-8b8f-5dffdf3fbdf0')\"\n",
              "            title=\"Suggest charts\"\n",
              "            style=\"display:none;\">\n",
              "\n",
              "<svg xmlns=\"http://www.w3.org/2000/svg\" height=\"24px\"viewBox=\"0 0 24 24\"\n",
              "     width=\"24px\">\n",
              "    <g>\n",
              "        <path d=\"M19 3H5c-1.1 0-2 .9-2 2v14c0 1.1.9 2 2 2h14c1.1 0 2-.9 2-2V5c0-1.1-.9-2-2-2zM9 17H7v-7h2v7zm4 0h-2V7h2v10zm4 0h-2v-4h2v4z\"/>\n",
              "    </g>\n",
              "</svg>\n",
              "  </button>\n",
              "\n",
              "<style>\n",
              "  .colab-df-quickchart {\n",
              "      --bg-color: #E8F0FE;\n",
              "      --fill-color: #1967D2;\n",
              "      --hover-bg-color: #E2EBFA;\n",
              "      --hover-fill-color: #174EA6;\n",
              "      --disabled-fill-color: #AAA;\n",
              "      --disabled-bg-color: #DDD;\n",
              "  }\n",
              "\n",
              "  [theme=dark] .colab-df-quickchart {\n",
              "      --bg-color: #3B4455;\n",
              "      --fill-color: #D2E3FC;\n",
              "      --hover-bg-color: #434B5C;\n",
              "      --hover-fill-color: #FFFFFF;\n",
              "      --disabled-bg-color: #3B4455;\n",
              "      --disabled-fill-color: #666;\n",
              "  }\n",
              "\n",
              "  .colab-df-quickchart {\n",
              "    background-color: var(--bg-color);\n",
              "    border: none;\n",
              "    border-radius: 50%;\n",
              "    cursor: pointer;\n",
              "    display: none;\n",
              "    fill: var(--fill-color);\n",
              "    height: 32px;\n",
              "    padding: 0;\n",
              "    width: 32px;\n",
              "  }\n",
              "\n",
              "  .colab-df-quickchart:hover {\n",
              "    background-color: var(--hover-bg-color);\n",
              "    box-shadow: 0 1px 2px rgba(60, 64, 67, 0.3), 0 1px 3px 1px rgba(60, 64, 67, 0.15);\n",
              "    fill: var(--button-hover-fill-color);\n",
              "  }\n",
              "\n",
              "  .colab-df-quickchart-complete:disabled,\n",
              "  .colab-df-quickchart-complete:disabled:hover {\n",
              "    background-color: var(--disabled-bg-color);\n",
              "    fill: var(--disabled-fill-color);\n",
              "    box-shadow: none;\n",
              "  }\n",
              "\n",
              "  .colab-df-spinner {\n",
              "    border: 2px solid var(--fill-color);\n",
              "    border-color: transparent;\n",
              "    border-bottom-color: var(--fill-color);\n",
              "    animation:\n",
              "      spin 1s steps(1) infinite;\n",
              "  }\n",
              "\n",
              "  @keyframes spin {\n",
              "    0% {\n",
              "      border-color: transparent;\n",
              "      border-bottom-color: var(--fill-color);\n",
              "      border-left-color: var(--fill-color);\n",
              "    }\n",
              "    20% {\n",
              "      border-color: transparent;\n",
              "      border-left-color: var(--fill-color);\n",
              "      border-top-color: var(--fill-color);\n",
              "    }\n",
              "    30% {\n",
              "      border-color: transparent;\n",
              "      border-left-color: var(--fill-color);\n",
              "      border-top-color: var(--fill-color);\n",
              "      border-right-color: var(--fill-color);\n",
              "    }\n",
              "    40% {\n",
              "      border-color: transparent;\n",
              "      border-right-color: var(--fill-color);\n",
              "      border-top-color: var(--fill-color);\n",
              "    }\n",
              "    60% {\n",
              "      border-color: transparent;\n",
              "      border-right-color: var(--fill-color);\n",
              "    }\n",
              "    80% {\n",
              "      border-color: transparent;\n",
              "      border-right-color: var(--fill-color);\n",
              "      border-bottom-color: var(--fill-color);\n",
              "    }\n",
              "    90% {\n",
              "      border-color: transparent;\n",
              "      border-bottom-color: var(--fill-color);\n",
              "    }\n",
              "  }\n",
              "</style>\n",
              "\n",
              "  <script>\n",
              "    async function quickchart(key) {\n",
              "      const quickchartButtonEl =\n",
              "        document.querySelector('#' + key + ' button');\n",
              "      quickchartButtonEl.disabled = true;  // To prevent multiple clicks.\n",
              "      quickchartButtonEl.classList.add('colab-df-spinner');\n",
              "      try {\n",
              "        const charts = await google.colab.kernel.invokeFunction(\n",
              "            'suggestCharts', [key], {});\n",
              "      } catch (error) {\n",
              "        console.error('Error during call to suggestCharts:', error);\n",
              "      }\n",
              "      quickchartButtonEl.classList.remove('colab-df-spinner');\n",
              "      quickchartButtonEl.classList.add('colab-df-quickchart-complete');\n",
              "    }\n",
              "    (() => {\n",
              "      let quickchartButtonEl =\n",
              "        document.querySelector('#df-b183a1f2-598d-4e24-8b8f-5dffdf3fbdf0 button');\n",
              "      quickchartButtonEl.style.display =\n",
              "        google.colab.kernel.accessAllowed ? 'block' : 'none';\n",
              "    })();\n",
              "  </script>\n",
              "</div>\n",
              "\n",
              "    </div>\n",
              "  </div>\n"
            ],
            "application/vnd.google.colaboratory.intrinsic+json": {
              "type": "dataframe",
              "variable_name": "df",
              "summary": "{\n  \"name\": \"df\",\n  \"rows\": 768,\n  \"fields\": [\n    {\n      \"column\": \"Pregnancies\",\n      \"properties\": {\n        \"dtype\": \"number\",\n        \"std\": 3,\n        \"min\": 0,\n        \"max\": 17,\n        \"num_unique_values\": 17,\n        \"samples\": [\n          6,\n          1,\n          3\n        ],\n        \"semantic_type\": \"\",\n        \"description\": \"\"\n      }\n    },\n    {\n      \"column\": \"Glucose\",\n      \"properties\": {\n        \"dtype\": \"number\",\n        \"std\": 31,\n        \"min\": 0,\n        \"max\": 199,\n        \"num_unique_values\": 136,\n        \"samples\": [\n          151,\n          101,\n          112\n        ],\n        \"semantic_type\": \"\",\n        \"description\": \"\"\n      }\n    },\n    {\n      \"column\": \"BloodPressure\",\n      \"properties\": {\n        \"dtype\": \"number\",\n        \"std\": 19,\n        \"min\": 0,\n        \"max\": 122,\n        \"num_unique_values\": 47,\n        \"samples\": [\n          86,\n          46,\n          85\n        ],\n        \"semantic_type\": \"\",\n        \"description\": \"\"\n      }\n    },\n    {\n      \"column\": \"SkinThickness\",\n      \"properties\": {\n        \"dtype\": \"number\",\n        \"std\": 15,\n        \"min\": 0,\n        \"max\": 99,\n        \"num_unique_values\": 51,\n        \"samples\": [\n          7,\n          12,\n          48\n        ],\n        \"semantic_type\": \"\",\n        \"description\": \"\"\n      }\n    },\n    {\n      \"column\": \"Insulin\",\n      \"properties\": {\n        \"dtype\": \"number\",\n        \"std\": 115,\n        \"min\": 0,\n        \"max\": 846,\n        \"num_unique_values\": 186,\n        \"samples\": [\n          52,\n          41,\n          183\n        ],\n        \"semantic_type\": \"\",\n        \"description\": \"\"\n      }\n    },\n    {\n      \"column\": \"BMI\",\n      \"properties\": {\n        \"dtype\": \"number\",\n        \"std\": 7.884160320375446,\n        \"min\": 0.0,\n        \"max\": 67.1,\n        \"num_unique_values\": 248,\n        \"samples\": [\n          19.9,\n          31.0,\n          38.1\n        ],\n        \"semantic_type\": \"\",\n        \"description\": \"\"\n      }\n    },\n    {\n      \"column\": \"DiabetesPedigreeFunction\",\n      \"properties\": {\n        \"dtype\": \"number\",\n        \"std\": 0.3313285950127749,\n        \"min\": 0.078,\n        \"max\": 2.42,\n        \"num_unique_values\": 517,\n        \"samples\": [\n          1.731,\n          0.426,\n          0.138\n        ],\n        \"semantic_type\": \"\",\n        \"description\": \"\"\n      }\n    },\n    {\n      \"column\": \"Age\",\n      \"properties\": {\n        \"dtype\": \"number\",\n        \"std\": 11,\n        \"min\": 21,\n        \"max\": 81,\n        \"num_unique_values\": 52,\n        \"samples\": [\n          60,\n          47,\n          72\n        ],\n        \"semantic_type\": \"\",\n        \"description\": \"\"\n      }\n    },\n    {\n      \"column\": \"Outcome\",\n      \"properties\": {\n        \"dtype\": \"number\",\n        \"std\": 0,\n        \"min\": 0,\n        \"max\": 1,\n        \"num_unique_values\": 2,\n        \"samples\": [\n          0,\n          1\n        ],\n        \"semantic_type\": \"\",\n        \"description\": \"\"\n      }\n    }\n  ]\n}"
            }
          },
          "metadata": {},
          "execution_count": 14
        }
      ]
    },
    {
      "cell_type": "code",
      "source": [
        "print(df.shape)"
      ],
      "metadata": {
        "colab": {
          "base_uri": "https://localhost:8080/"
        },
        "id": "SloDNIVOE5C2",
        "outputId": "4db9d0a6-01b2-4856-faad-3eed53c054fa"
      },
      "execution_count": null,
      "outputs": [
        {
          "output_type": "stream",
          "name": "stdout",
          "text": [
            "(768, 9)\n"
          ]
        }
      ]
    },
    {
      "cell_type": "code",
      "source": [
        "X = df.iloc[:, 0:8]\n",
        "Y = df.iloc[:, 8]\n",
        "print(X.shape)\n",
        "print(Y.shape)"
      ],
      "metadata": {
        "colab": {
          "base_uri": "https://localhost:8080/"
        },
        "id": "4eNdxebCGjaA",
        "outputId": "1c4e4c12-50a0-47d2-bb1d-fde8af5f4b02"
      },
      "execution_count": null,
      "outputs": [
        {
          "output_type": "stream",
          "name": "stdout",
          "text": [
            "(768, 8)\n",
            "(768,)\n"
          ]
        }
      ]
    },
    {
      "cell_type": "code",
      "source": [
        "# create the first model\n",
        "model = Sequential()\n",
        "\n",
        "# add 3 dense layers\n",
        "model.add(Dense(12, input_dim = 8, kernel_initializer = 'uniform'))\n",
        "model.add(Dense(8, kernel_initializer = 'uniform'))\n",
        "model.add(Dense(1, kernel_initializer = 'uniform'))\n",
        "\n",
        "# compile model\n",
        "model.compile(loss = 'binary_crossentropy', optimizer = 'adam', metrics = ['accuracy'])\n",
        "\n",
        "# fit the model\n",
        "model.fit(X, Y, epochs = 20, batch_size = 10, verbose = 2)\n",
        "\n",
        "# evaluate the model\n",
        "scores = model.evaluate(X, Y)\n",
        "print('%s: %.2f%%' %(model.metrics_names[1], scores[1] * 100))\n"
      ],
      "metadata": {
        "colab": {
          "base_uri": "https://localhost:8080/"
        },
        "id": "FBpy1QhqGvLX",
        "outputId": "ee7447a0-1f79-4486-acfa-ab9ca9798992"
      },
      "execution_count": null,
      "outputs": [
        {
          "output_type": "stream",
          "name": "stdout",
          "text": [
            "Epoch 1/20\n",
            "77/77 - 1s - loss: 0.6158 - accuracy: 0.6771 - 1s/epoch - 18ms/step\n",
            "Epoch 2/20\n",
            "77/77 - 0s - loss: 0.5833 - accuracy: 0.7109 - 204ms/epoch - 3ms/step\n",
            "Epoch 3/20\n",
            "77/77 - 0s - loss: 0.5891 - accuracy: 0.7070 - 143ms/epoch - 2ms/step\n",
            "Epoch 4/20\n",
            "77/77 - 0s - loss: 0.6011 - accuracy: 0.7344 - 133ms/epoch - 2ms/step\n",
            "Epoch 5/20\n",
            "77/77 - 0s - loss: 0.5982 - accuracy: 0.7266 - 122ms/epoch - 2ms/step\n",
            "Epoch 6/20\n",
            "77/77 - 0s - loss: 0.5887 - accuracy: 0.7201 - 129ms/epoch - 2ms/step\n",
            "Epoch 7/20\n",
            "77/77 - 0s - loss: 0.5800 - accuracy: 0.7344 - 129ms/epoch - 2ms/step\n",
            "Epoch 8/20\n",
            "77/77 - 0s - loss: 0.5779 - accuracy: 0.7435 - 193ms/epoch - 3ms/step\n",
            "Epoch 9/20\n",
            "77/77 - 0s - loss: 0.5827 - accuracy: 0.7292 - 157ms/epoch - 2ms/step\n",
            "Epoch 10/20\n",
            "77/77 - 0s - loss: 0.5728 - accuracy: 0.7344 - 173ms/epoch - 2ms/step\n",
            "Epoch 11/20\n",
            "77/77 - 0s - loss: 0.5677 - accuracy: 0.7435 - 221ms/epoch - 3ms/step\n",
            "Epoch 12/20\n",
            "77/77 - 0s - loss: 0.5675 - accuracy: 0.7370 - 139ms/epoch - 2ms/step\n",
            "Epoch 13/20\n",
            "77/77 - 0s - loss: 0.5628 - accuracy: 0.7396 - 130ms/epoch - 2ms/step\n",
            "Epoch 14/20\n",
            "77/77 - 0s - loss: 0.5739 - accuracy: 0.7526 - 201ms/epoch - 3ms/step\n",
            "Epoch 15/20\n",
            "77/77 - 0s - loss: 0.5619 - accuracy: 0.7422 - 142ms/epoch - 2ms/step\n",
            "Epoch 16/20\n",
            "77/77 - 0s - loss: 0.5785 - accuracy: 0.7539 - 217ms/epoch - 3ms/step\n",
            "Epoch 17/20\n",
            "77/77 - 0s - loss: 0.5618 - accuracy: 0.7409 - 210ms/epoch - 3ms/step\n",
            "Epoch 18/20\n",
            "77/77 - 0s - loss: 0.5607 - accuracy: 0.7331 - 177ms/epoch - 2ms/step\n",
            "Epoch 19/20\n",
            "77/77 - 0s - loss: 0.5931 - accuracy: 0.7214 - 199ms/epoch - 3ms/step\n",
            "Epoch 20/20\n",
            "77/77 - 0s - loss: 0.5527 - accuracy: 0.7539 - 200ms/epoch - 3ms/step\n",
            "24/24 [==============================] - 0s 1ms/step - loss: 0.5495 - accuracy: 0.7565\n",
            "accuracy: 75.65%\n"
          ]
        }
      ]
    },
    {
      "cell_type": "code",
      "source": [
        "# extending the first model with activation functions\n",
        "model = Sequential()\n",
        "# specifying activation functions\n",
        "model.add(Dense(12, input_dim=8, kernel_initializer='uniform', activation='relu'))\n",
        "model.add(Dense(8, kernel_initializer='uniform', activation='relu'))\n",
        "model.add(Dense(1, kernel_initializer='uniform', activation='sigmoid'))\n",
        "\n",
        "# compile model\n",
        "model.compile(loss='binary_crossentropy', optimizer = 'adam', metrics = ['accuracy'])\n",
        "\n",
        "# fit the model\n",
        "model.fit(X, Y, epochs = 20, batch_size = 10, verbose = 2)\n",
        "\n",
        "# evaluate the model\n",
        "scores = model.evaluate(X, Y)\n",
        "print(\"%s: %.2f%%\" % (model.metrics_names[1], scores[1] * 100))"
      ],
      "metadata": {
        "colab": {
          "base_uri": "https://localhost:8080/"
        },
        "id": "wq0PuPMzG3Km",
        "outputId": "36db69ed-fe04-4872-8a14-5d546e469a1e"
      },
      "execution_count": null,
      "outputs": [
        {
          "output_type": "stream",
          "name": "stdout",
          "text": [
            "Epoch 1/20\n",
            "77/77 - 1s - loss: 0.6822 - accuracy: 0.6302 - 1s/epoch - 16ms/step\n",
            "Epoch 2/20\n",
            "77/77 - 0s - loss: 0.6626 - accuracy: 0.6510 - 156ms/epoch - 2ms/step\n",
            "Epoch 3/20\n",
            "77/77 - 0s - loss: 0.6544 - accuracy: 0.6523 - 142ms/epoch - 2ms/step\n",
            "Epoch 4/20\n",
            "77/77 - 0s - loss: 0.6457 - accuracy: 0.6523 - 135ms/epoch - 2ms/step\n",
            "Epoch 5/20\n",
            "77/77 - 0s - loss: 0.6361 - accuracy: 0.6602 - 131ms/epoch - 2ms/step\n",
            "Epoch 6/20\n",
            "77/77 - 0s - loss: 0.6235 - accuracy: 0.6758 - 143ms/epoch - 2ms/step\n",
            "Epoch 7/20\n",
            "77/77 - 0s - loss: 0.6122 - accuracy: 0.6745 - 134ms/epoch - 2ms/step\n",
            "Epoch 8/20\n",
            "77/77 - 0s - loss: 0.6022 - accuracy: 0.6836 - 142ms/epoch - 2ms/step\n",
            "Epoch 9/20\n",
            "77/77 - 0s - loss: 0.5933 - accuracy: 0.6875 - 134ms/epoch - 2ms/step\n",
            "Epoch 10/20\n",
            "77/77 - 0s - loss: 0.5915 - accuracy: 0.6966 - 156ms/epoch - 2ms/step\n",
            "Epoch 11/20\n",
            "77/77 - 0s - loss: 0.5886 - accuracy: 0.6927 - 137ms/epoch - 2ms/step\n",
            "Epoch 12/20\n",
            "77/77 - 0s - loss: 0.5871 - accuracy: 0.6888 - 137ms/epoch - 2ms/step\n",
            "Epoch 13/20\n",
            "77/77 - 0s - loss: 0.5915 - accuracy: 0.6823 - 140ms/epoch - 2ms/step\n",
            "Epoch 14/20\n",
            "77/77 - 0s - loss: 0.5819 - accuracy: 0.6966 - 125ms/epoch - 2ms/step\n",
            "Epoch 15/20\n",
            "77/77 - 0s - loss: 0.5790 - accuracy: 0.6966 - 144ms/epoch - 2ms/step\n",
            "Epoch 16/20\n",
            "77/77 - 0s - loss: 0.5748 - accuracy: 0.7122 - 126ms/epoch - 2ms/step\n",
            "Epoch 17/20\n",
            "77/77 - 0s - loss: 0.5859 - accuracy: 0.6875 - 133ms/epoch - 2ms/step\n",
            "Epoch 18/20\n",
            "77/77 - 0s - loss: 0.5814 - accuracy: 0.7005 - 141ms/epoch - 2ms/step\n",
            "Epoch 19/20\n",
            "77/77 - 0s - loss: 0.5768 - accuracy: 0.7005 - 134ms/epoch - 2ms/step\n",
            "Epoch 20/20\n",
            "77/77 - 0s - loss: 0.5720 - accuracy: 0.7005 - 121ms/epoch - 2ms/step\n",
            "24/24 [==============================] - 0s 2ms/step - loss: 0.5650 - accuracy: 0.7031\n",
            "accuracy: 70.31%\n"
          ]
        }
      ]
    },
    {
      "cell_type": "code",
      "source": [
        "model.summary()"
      ],
      "metadata": {
        "colab": {
          "base_uri": "https://localhost:8080/"
        },
        "id": "7eHQeYXYYE65",
        "outputId": "0c083586-f314-4861-f1cd-d630bd628082"
      },
      "execution_count": null,
      "outputs": [
        {
          "output_type": "stream",
          "name": "stdout",
          "text": [
            "Model: \"sequential_7\"\n",
            "_________________________________________________________________\n",
            " Layer (type)                Output Shape              Param #   \n",
            "=================================================================\n",
            " dense_25 (Dense)            (None, 12)                108       \n",
            "                                                                 \n",
            " dense_26 (Dense)            (None, 8)                 104       \n",
            "                                                                 \n",
            " dense_27 (Dense)            (None, 1)                 9         \n",
            "                                                                 \n",
            "=================================================================\n",
            "Total params: 221 (884.00 Byte)\n",
            "Trainable params: 221 (884.00 Byte)\n",
            "Non-trainable params: 0 (0.00 Byte)\n",
            "_________________________________________________________________\n"
          ]
        }
      ]
    },
    {
      "cell_type": "markdown",
      "source": [
        "# 2nd Keras Example"
      ],
      "metadata": {
        "id": "gUnFT_bedeI9"
      }
    },
    {
      "cell_type": "code",
      "source": [
        "# Train and evaluate a simple MLP of the Reuters newswire topic classification task.\n",
        "\n",
        "from __future__ import print_function\n",
        "import numpy as np\n",
        "np.random.seed(1337)\n",
        "\n",
        "from keras.datasets import reuters\n",
        "from keras.models import Sequential\n",
        "from keras.layers import Dense, Dropout, Activation\n",
        "from keras.utils import to_categorical\n",
        "from keras.preprocessing.text import Tokenizer\n",
        "\n",
        "# define parameters\n",
        "max_words = 1000\n",
        "batch_size = 32\n",
        "epochs = 5\n",
        "\n",
        "\n",
        "# load data\n",
        "print(\"Loading data ... \")\n",
        "(X_train, y_train), (X_test, y_test) = reuters.load_data(nb_words = max_words, test_split = 0.2)\n",
        "print(len(X_train), 'train sequences')\n",
        "print(len(X_test), 'test sequences')\n",
        "\n",
        "# number of classes\n",
        "nb_classes = np.max(y_train) + 1\n",
        "print(nb_classes, 'classes')\n",
        "\n",
        "\n",
        "# vectorize the data\n",
        "print('Vectorizing sequence data ...')\n",
        "tokenizer = Tokenizer(nb_words = max_words)\n",
        "X_train = tokenizer.sequences_to_matrix(X_train, mode = 'binary')\n",
        "X_test = tokenizer.sequences_to_matrix(X_test, mode = 'binary')\n",
        "print('X_train shape: ', X_train.shape)\n",
        "print('X_test shape: ', X_test.shape)\n",
        "\n",
        "print('Class vector to binary class matrix (for use with categorical_crossentropy)')\n",
        "Y_train = to_categorical(y_train, nb_classes)\n",
        "Y_test = to_categorical(y_test, nb_classes)\n",
        "\n",
        "print('Y_train shape: ', Y_train.shape)\n",
        "print('Y_test shape: ', Y_test.shape)"
      ],
      "metadata": {
        "colab": {
          "base_uri": "https://localhost:8080/"
        },
        "id": "UmtnCDkScXCX",
        "outputId": "ec68919d-71bd-460f-9475-53129c956ea4"
      },
      "execution_count": null,
      "outputs": [
        {
          "output_type": "stream",
          "name": "stderr",
          "text": [
            "WARNING:tensorflow:The `nb_words` argument in `load_data` has been renamed `num_words`.\n"
          ]
        },
        {
          "output_type": "stream",
          "name": "stdout",
          "text": [
            "Loading data ... \n",
            "Downloading data from https://storage.googleapis.com/tensorflow/tf-keras-datasets/reuters.npz\n",
            "2110848/2110848 [==============================] - 0s 0us/step\n",
            "8982 train sequences\n",
            "2246 test sequences\n",
            "46 classes\n",
            "Vectorizing sequence data ...\n"
          ]
        },
        {
          "output_type": "stream",
          "name": "stderr",
          "text": [
            "/usr/local/lib/python3.10/dist-packages/keras/src/preprocessing/text.py:246: UserWarning: The `nb_words` argument in `Tokenizer` has been renamed `num_words`.\n",
            "  warnings.warn(\n"
          ]
        },
        {
          "output_type": "stream",
          "name": "stdout",
          "text": [
            "X_train shape:  (8982, 1000)\n",
            "X_test shape:  (2246, 1000)\n",
            "Class vector to binary class matrix (for use with categorical_crossentropy)\n",
            "Y_train shape:  (8982, 46)\n",
            "Y_test shape:  (2246, 46)\n"
          ]
        }
      ]
    },
    {
      "cell_type": "code",
      "source": [
        "print('Model Building ... ')\n",
        "model = Sequential()\n",
        "model.add(Dense(512, input_shape = (max_words, )))\n",
        "model.add(Activation('relu'))\n",
        "model.add(Dropout(0.5))\n",
        "model.add(Dense(nb_classes))\n",
        "model.add(Activation('softmax'))\n",
        "\n",
        "# compile the model\n",
        "model.compile(loss = 'categorical_crossentropy', optimizer = 'adam')\n",
        "\n",
        "# fit the model with training data\n",
        "history = model.fit(X_train, Y_train, epochs = epochs, batch_size = batch_size, verbose = 1, validation_split = 0.1)\n",
        "\n",
        "# evaluate the model\n",
        "score = model.evaluate(X_test, Y_test, batch_size = batch_size, verbose = 1)\n",
        "print(\"Test score: \", score)\n",
        "print(\"Test accuracy: \", score)"
      ],
      "metadata": {
        "colab": {
          "base_uri": "https://localhost:8080/"
        },
        "id": "MSMqmKeMhSCh",
        "outputId": "d258303e-5721-4a4b-eaca-9cc5e6be045e"
      },
      "execution_count": null,
      "outputs": [
        {
          "output_type": "stream",
          "name": "stdout",
          "text": [
            "Model Building ... \n",
            "Epoch 1/5\n",
            "253/253 [==============================] - 5s 15ms/step - loss: 1.4110 - val_loss: 1.0792\n",
            "Epoch 2/5\n",
            "253/253 [==============================] - 2s 10ms/step - loss: 0.7764 - val_loss: 0.9164\n",
            "Epoch 3/5\n",
            "253/253 [==============================] - 3s 13ms/step - loss: 0.5345 - val_loss: 0.8993\n",
            "Epoch 4/5\n",
            "253/253 [==============================] - 2s 10ms/step - loss: 0.4111 - val_loss: 0.8570\n",
            "Epoch 5/5\n",
            "253/253 [==============================] - 2s 9ms/step - loss: 0.3234 - val_loss: 0.8731\n",
            "71/71 [==============================] - 0s 5ms/step - loss: 0.8809\n",
            "Test score:  0.8808990120887756\n",
            "Test accuracy:  0.8808990120887756\n"
          ]
        }
      ]
    },
    {
      "cell_type": "code",
      "source": [],
      "metadata": {
        "id": "lfCkREtknis1"
      },
      "execution_count": null,
      "outputs": []
    }
  ]
}