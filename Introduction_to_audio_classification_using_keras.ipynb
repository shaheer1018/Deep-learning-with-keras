{
  "nbformat": 4,
  "nbformat_minor": 0,
  "metadata": {
    "colab": {
      "provenance": []
    },
    "kernelspec": {
      "name": "python3",
      "display_name": "Python 3"
    },
    "language_info": {
      "name": "python"
    }
  },
  "cells": [
    {
      "cell_type": "code",
      "execution_count": 1,
      "metadata": {
        "id": "TdLe_A9CFFui"
      },
      "outputs": [],
      "source": [
        "import os\n",
        "import numpy as np\n",
        "import pandas as pd\n",
        "import librosa\n",
        "from sklearn.model_selection import train_test_split\n",
        "from sklearn.preprocessing import LabelEncoder\n",
        "from keras.utils import to_categorical\n",
        "from keras.models import Sequential\n",
        "from keras.layers import Dense, Dropout, Activation, Flatten, Conv1D, MaxPooling1D"
      ]
    },
    {
      "cell_type": "markdown",
      "source": [
        "# Preprocessing the Data Set"
      ],
      "metadata": {
        "id": "BVWhg_eeKVkp"
      }
    },
    {
      "cell_type": "code",
      "source": [
        "def load_data(data_path, metadata_path):\n",
        "  features = []\n",
        "  labels = []\n",
        "\n",
        "  metadata = pd.read_csv(metadata_path)\n",
        "\n",
        "\n",
        "  for index, row in metadata.iterrows():\n",
        "    file_path = os.path.join(data_path, f\"fold{row['fold']}\", f\"{row['slice_file_name']}\")\n",
        "\n",
        "    # Load the audio file and resample it\n",
        "    target_sr = 22050\n",
        "    try:\n",
        "      audio, sample_rate = librosa.load(file_path, sr = target_sr)\n",
        "\n",
        "      # Extract MFCC features\n",
        "      mfccs = librosa.feature.mfcc(y=audio, sr=target_sr, n_mfcc = 40)\n",
        "      mfccs_scaled = np.mean(mfccs.T, axis = 0)\n",
        "\n",
        "      # Append features and labels\n",
        "      features.append(mfccs_scaled)\n",
        "      labels.append(row['class'])\n",
        "\n",
        "    except:\n",
        "      pass\n",
        "\n",
        "  print('All features extracted.')\n",
        "\n",
        "  return np.array(features), np.array(labels)"
      ],
      "metadata": {
        "id": "ymoxADqqJgUE"
      },
      "execution_count": 16,
      "outputs": []
    },
    {
      "cell_type": "markdown",
      "source": [
        "# Import UrbanSound 8k Data Set"
      ],
      "metadata": {
        "id": "Vki9RVCZMtzj"
      }
    },
    {
      "cell_type": "code",
      "source": [
        "print(os.getcwd())"
      ],
      "metadata": {
        "colab": {
          "base_uri": "https://localhost:8080/"
        },
        "id": "kOIwln6ACtza",
        "outputId": "eb01c28a-0df0-4904-bbc7-1e8245f4e3be"
      },
      "execution_count": 8,
      "outputs": [
        {
          "output_type": "stream",
          "name": "stdout",
          "text": [
            "/content\n"
          ]
        }
      ]
    },
    {
      "cell_type": "code",
      "source": [
        "data_path = \"/content/UrbanSound8K\"\n",
        "metadata_path = \"/content/UrbanSound8K/UrbanSound8KFold8.csv\"\n",
        "\n",
        "\n",
        "features, labels = load_data(data_path, metadata_path)\n",
        "\n",
        "# Encode labels\n",
        "le = LabelEncoder()\n",
        "labels_encoded = le.fit_transform(labels)\n",
        "labels_onehot = to_categorical(labels_encoded)"
      ],
      "metadata": {
        "colab": {
          "base_uri": "https://localhost:8080/"
        },
        "id": "ZRoy-BXIMKXD",
        "outputId": "9ca109c7-83a6-41bb-bde9-fc307b013895"
      },
      "execution_count": 17,
      "outputs": [
        {
          "output_type": "stream",
          "name": "stderr",
          "text": [
            "<ipython-input-16-1fb243a7dc69>:14: UserWarning: PySoundFile failed. Trying audioread instead.\n",
            "  audio, sample_rate = librosa.load(file_path, sr = target_sr)\n",
            "/usr/local/lib/python3.10/dist-packages/librosa/core/audio.py:184: FutureWarning: librosa.core.audio.__audioread_load\n",
            "\tDeprecated as of librosa version 0.10.0.\n",
            "\tIt will be removed in librosa version 1.0.\n",
            "  y, sr_native = __audioread_load(path, offset, duration, dtype)\n",
            "<ipython-input-16-1fb243a7dc69>:14: UserWarning: PySoundFile failed. Trying audioread instead.\n",
            "  audio, sample_rate = librosa.load(file_path, sr = target_sr)\n",
            "/usr/local/lib/python3.10/dist-packages/librosa/core/audio.py:184: FutureWarning: librosa.core.audio.__audioread_load\n",
            "\tDeprecated as of librosa version 0.10.0.\n",
            "\tIt will be removed in librosa version 1.0.\n",
            "  y, sr_native = __audioread_load(path, offset, duration, dtype)\n"
          ]
        }
      ]
    },
    {
      "cell_type": "code",
      "source": [
        "print(len(features))\n",
        "print(len(labels))"
      ],
      "metadata": {
        "colab": {
          "base_uri": "https://localhost:8080/"
        },
        "id": "FNujVQPaDViz",
        "outputId": "19246365-fa41-4192-85cb-5ee909ef69b6"
      },
      "execution_count": 19,
      "outputs": [
        {
          "output_type": "stream",
          "name": "stdout",
          "text": [
            "774\n",
            "774\n"
          ]
        }
      ]
    },
    {
      "cell_type": "code",
      "source": [
        "print(np.unique(labels))"
      ],
      "metadata": {
        "colab": {
          "base_uri": "https://localhost:8080/"
        },
        "id": "V03-CBIMDziT",
        "outputId": "5361e658-3708-470c-f83e-3831c12b06b9"
      },
      "execution_count": 21,
      "outputs": [
        {
          "output_type": "stream",
          "name": "stdout",
          "text": [
            "['air_conditioner' 'car_horn' 'children_playing' 'dog_bark' 'drilling'\n",
            " 'engine_idling' 'gun_shot' 'jackhammer' 'siren' 'street_music']\n"
          ]
        }
      ]
    },
    {
      "cell_type": "code",
      "source": [
        "# Split the data into training and testing sets\n",
        "X_train, X_test, y_train, y_test = train_test_split(features, labels_onehot, test_size = 0.2, random_state = 42, stratify = labels_onehot)"
      ],
      "metadata": {
        "id": "q2YBCAkfEmX4"
      },
      "execution_count": 25,
      "outputs": []
    },
    {
      "cell_type": "code",
      "source": [
        "input_shape = (X_train.shape[1], 1)"
      ],
      "metadata": {
        "id": "eVaWXpO5HT0p"
      },
      "execution_count": 26,
      "outputs": []
    },
    {
      "cell_type": "code",
      "source": [
        "# Build 1D CNN model\n",
        "model = Sequential()\n",
        "model.add(Conv1D(64, 3, padding = 'same', activation = 'relu', input_shape = input_shape))\n",
        "model.add(MaxPooling1D(pool_size = 2))\n",
        "model.add(Dropout(0.25))\n",
        "model.add(Conv1D(128, 3, padding = 'same', activation = 'relu'))\n",
        "model.add(MaxPooling1D(pool_size = 2))\n",
        "model.add(Dropout(0.25))\n",
        "model.add(Flatten())\n",
        "model.add(Dense(512, activation = 'relu'))\n",
        "model.add(Dropout(0.5))\n",
        "model.add(Dense(len(le.classes_), activation = 'softmax'))"
      ],
      "metadata": {
        "id": "_1IYjy4-Lta6"
      },
      "execution_count": 30,
      "outputs": []
    },
    {
      "cell_type": "code",
      "source": [
        "# Compile the model\n",
        "model.compile(loss = 'categorical_crossentropy', optimizer = 'adam', metrics = ['accuracy'])"
      ],
      "metadata": {
        "id": "A-dJ3SEjOWga"
      },
      "execution_count": 31,
      "outputs": []
    },
    {
      "cell_type": "code",
      "source": [
        "# Reshape the data to fit the input shape of the model\n",
        "X_train = X_train.reshape(X_train.shape[0], X_train.shape[1], 1)\n",
        "X_test = X_test.reshape(X_test.shape[0], X_test.shape[1], 1)"
      ],
      "metadata": {
        "id": "isZDOrvuOm6S"
      },
      "execution_count": 32,
      "outputs": []
    },
    {
      "cell_type": "code",
      "source": [
        "print(X_train.shape)\n",
        "print(X_test.shape)"
      ],
      "metadata": {
        "colab": {
          "base_uri": "https://localhost:8080/"
        },
        "id": "5U9l5dj4PU-h",
        "outputId": "286a8ab0-3e66-4cfb-e066-ae54291abb16"
      },
      "execution_count": 33,
      "outputs": [
        {
          "output_type": "stream",
          "name": "stdout",
          "text": [
            "(619, 40, 1)\n",
            "(155, 40, 1)\n"
          ]
        }
      ]
    },
    {
      "cell_type": "code",
      "source": [
        "def make_predictions(model, le, file_path):\n",
        "    audio, sample_rate = librosa.load(file_path, sr=22050)\n",
        "    mfccs = librosa.feature.mfcc(y=audio, sr=22050, n_mfcc=40)\n",
        "    mfccs_scaled = np.mean(mfccs.T, axis=0)\n",
        "    features = mfccs_scaled.reshape(1, mfccs_scaled.shape[0], 1)\n",
        "    predicted_vector = model.predict(features)\n",
        "    predicted_class_index = np.argmax(predicted_vector, axis=-1)\n",
        "    return le.inverse_transform(predicted_class_index)[0]"
      ],
      "metadata": {
        "id": "p08O8BxJPZ4L"
      },
      "execution_count": 34,
      "outputs": []
    },
    {
      "cell_type": "code",
      "source": [
        "# Save the initial weights\n",
        "initial_weights = model.get_weights()\n",
        "\n",
        "# Dictionary to store old predictions\n",
        "old_predictions = {}\n",
        "\n",
        "\n",
        "# List of test files and their true labels\n",
        "test_files = [\n",
        "    (\"/content/UrbanSound8K/fold8/113202-5-0-2.wav\", \"engine_idling\"),\n",
        "    (\"/content/UrbanSound8K/fold8/155313-3-0-0.wav\", \"dog_bark\"),\n",
        "    (\"/content/UrbanSound8K/fold8/162433-6-1-0.wav\", \"gun_shot\"),\n",
        "    (\"/content/UrbanSound8K/fold8/36429-2-0-7.wav\", \"children_playing\"),\n",
        "    (\"/content/UrbanSound8K/fold8/39967-9-0-56.wav\", \"street_music\")\n",
        "]\n",
        "\n",
        "\n",
        "# Make predictions before training\n",
        "for file_path, true_label in test_files:\n",
        "    predicted_label_before = make_predictions(model, le, file_path)\n",
        "    old_predictions[file_path] = predicted_label_before"
      ],
      "metadata": {
        "colab": {
          "base_uri": "https://localhost:8080/"
        },
        "id": "9auJDH4qPvST",
        "outputId": "2e954483-bcdf-4dde-8121-5c95950e42f7"
      },
      "execution_count": 37,
      "outputs": [
        {
          "output_type": "stream",
          "name": "stdout",
          "text": [
            "1/1 [==============================] - 0s 247ms/step\n",
            "1/1 [==============================] - 0s 26ms/step\n",
            "1/1 [==============================] - 0s 27ms/step\n",
            "1/1 [==============================] - 0s 29ms/step\n",
            "1/1 [==============================] - 0s 27ms/step\n"
          ]
        }
      ]
    },
    {
      "cell_type": "code",
      "source": [
        "batch_size = 32\n",
        "epochs = 10\n",
        "model.fit(X_train, y_train, batch_size = batch_size, epochs = epochs, validation_data=(X_test, y_test), verbose=1)"
      ],
      "metadata": {
        "colab": {
          "base_uri": "https://localhost:8080/"
        },
        "id": "kdLD5fLVP4qb",
        "outputId": "86679f03-d35f-440d-c872-fd6afbb37ad5"
      },
      "execution_count": 40,
      "outputs": [
        {
          "output_type": "stream",
          "name": "stdout",
          "text": [
            "Epoch 1/10\n",
            "20/20 [==============================] - 1s 31ms/step - loss: 1.0396 - accuracy: 0.6365 - val_loss: 1.0137 - val_accuracy: 0.7161\n",
            "Epoch 2/10\n",
            "20/20 [==============================] - 1s 30ms/step - loss: 0.9334 - accuracy: 0.6753 - val_loss: 0.9228 - val_accuracy: 0.7097\n",
            "Epoch 3/10\n",
            "20/20 [==============================] - 0s 24ms/step - loss: 0.7911 - accuracy: 0.7205 - val_loss: 0.8416 - val_accuracy: 0.7484\n",
            "Epoch 4/10\n",
            "20/20 [==============================] - 0s 16ms/step - loss: 0.7916 - accuracy: 0.7237 - val_loss: 0.7593 - val_accuracy: 0.8129\n",
            "Epoch 5/10\n",
            "20/20 [==============================] - 0s 17ms/step - loss: 0.7075 - accuracy: 0.7593 - val_loss: 0.6616 - val_accuracy: 0.8129\n",
            "Epoch 6/10\n",
            "20/20 [==============================] - 0s 17ms/step - loss: 0.6631 - accuracy: 0.7641 - val_loss: 0.6490 - val_accuracy: 0.8129\n",
            "Epoch 7/10\n",
            "20/20 [==============================] - 0s 16ms/step - loss: 0.5962 - accuracy: 0.8013 - val_loss: 0.5544 - val_accuracy: 0.8645\n",
            "Epoch 8/10\n",
            "20/20 [==============================] - 0s 16ms/step - loss: 0.5942 - accuracy: 0.8013 - val_loss: 0.5570 - val_accuracy: 0.8387\n",
            "Epoch 9/10\n",
            "20/20 [==============================] - 0s 18ms/step - loss: 0.4848 - accuracy: 0.8578 - val_loss: 0.5262 - val_accuracy: 0.8645\n",
            "Epoch 10/10\n",
            "20/20 [==============================] - 0s 16ms/step - loss: 0.5111 - accuracy: 0.8271 - val_loss: 0.4597 - val_accuracy: 0.8581\n"
          ]
        },
        {
          "output_type": "execute_result",
          "data": {
            "text/plain": [
              "<keras.src.callbacks.History at 0x7e6982a767a0>"
            ]
          },
          "metadata": {},
          "execution_count": 40
        }
      ]
    },
    {
      "cell_type": "code",
      "source": [
        "new_predictions = {}\n",
        "# Make predictions after training\n",
        "for file_path, true_label in test_files:\n",
        "  predicted_label_after = make_predictions(model, le, file_path)\n",
        "  new_predictions[file_path] = predicted_label_after"
      ],
      "metadata": {
        "colab": {
          "base_uri": "https://localhost:8080/"
        },
        "id": "4T4Xd4hbP60L",
        "outputId": "37c3f889-44f9-4b76-ac16-354fbbb16d3c"
      },
      "execution_count": 44,
      "outputs": [
        {
          "output_type": "stream",
          "name": "stdout",
          "text": [
            "1/1 [==============================] - 0s 31ms/step\n",
            "1/1 [==============================] - 0s 31ms/step\n",
            "1/1 [==============================] - 0s 24ms/step\n",
            "1/1 [==============================] - 0s 47ms/step\n",
            "1/1 [==============================] - 0s 27ms/step\n"
          ]
        }
      ]
    },
    {
      "cell_type": "code",
      "source": [
        "df = pd.DataFrame(columns = ['Filename', 'True Label', 'Old Prediction', 'New Prediction'])"
      ],
      "metadata": {
        "id": "GSxyFFpnW8TT"
      },
      "execution_count": 55,
      "outputs": []
    },
    {
      "cell_type": "code",
      "source": [
        "file_paths_list = []\n",
        "true_labels_list = []\n",
        "\n",
        "for file_path, true_label in test_files:\n",
        "  file_paths_list.append(file_path)\n",
        "  true_labels_list.append(true_label)\n",
        "\n",
        "df['Filename'] = file_paths_list\n",
        "df['True Label'] = true_labels_list"
      ],
      "metadata": {
        "id": "whTPE7wUdTDa"
      },
      "execution_count": 56,
      "outputs": []
    },
    {
      "cell_type": "code",
      "source": [
        "row_count = 0\n",
        "\n",
        "for file in df['Filename']:\n",
        "  df.at[row_count, 'Old Prediction'] = old_predictions[file]\n",
        "  row_count += 1"
      ],
      "metadata": {
        "id": "zpn_AVFweUir"
      },
      "execution_count": 74,
      "outputs": []
    },
    {
      "cell_type": "code",
      "source": [
        "row_count = 0\n",
        "\n",
        "for file in df['Filename']:\n",
        "  df.at[row_count, 'New Prediction'] = new_predictions[file]\n",
        "  row_count += 1"
      ],
      "metadata": {
        "id": "Ls0ir-7feXfC"
      },
      "execution_count": 75,
      "outputs": []
    },
    {
      "cell_type": "code",
      "source": [
        "display(df)"
      ],
      "metadata": {
        "colab": {
          "base_uri": "https://localhost:8080/",
          "height": 226
        },
        "id": "aN7o_N7SebNi",
        "outputId": "79bcaa0c-63bd-4893-9a28-b074e1c15412"
      },
      "execution_count": 76,
      "outputs": [
        {
          "output_type": "display_data",
          "data": {
            "text/plain": [
              "                                       Filename        True Label  \\\n",
              "0  /content/UrbanSound8K/fold8/113202-5-0-2.wav     engine_idling   \n",
              "1  /content/UrbanSound8K/fold8/155313-3-0-0.wav          dog_bark   \n",
              "2  /content/UrbanSound8K/fold8/162433-6-1-0.wav          gun_shot   \n",
              "3   /content/UrbanSound8K/fold8/36429-2-0-7.wav  children_playing   \n",
              "4  /content/UrbanSound8K/fold8/39967-9-0-56.wav      street_music   \n",
              "\n",
              "  Old Prediction    New Prediction  \n",
              "0       drilling     engine_idling  \n",
              "1     jackhammer          dog_bark  \n",
              "2       drilling          gun_shot  \n",
              "3     jackhammer  children_playing  \n",
              "4       drilling      street_music  "
            ],
            "text/html": [
              "\n",
              "  <div id=\"df-fb436ab2-41e9-42c3-a95d-94956980dea2\" class=\"colab-df-container\">\n",
              "    <div>\n",
              "<style scoped>\n",
              "    .dataframe tbody tr th:only-of-type {\n",
              "        vertical-align: middle;\n",
              "    }\n",
              "\n",
              "    .dataframe tbody tr th {\n",
              "        vertical-align: top;\n",
              "    }\n",
              "\n",
              "    .dataframe thead th {\n",
              "        text-align: right;\n",
              "    }\n",
              "</style>\n",
              "<table border=\"1\" class=\"dataframe\">\n",
              "  <thead>\n",
              "    <tr style=\"text-align: right;\">\n",
              "      <th></th>\n",
              "      <th>Filename</th>\n",
              "      <th>True Label</th>\n",
              "      <th>Old Prediction</th>\n",
              "      <th>New Prediction</th>\n",
              "    </tr>\n",
              "  </thead>\n",
              "  <tbody>\n",
              "    <tr>\n",
              "      <th>0</th>\n",
              "      <td>/content/UrbanSound8K/fold8/113202-5-0-2.wav</td>\n",
              "      <td>engine_idling</td>\n",
              "      <td>drilling</td>\n",
              "      <td>engine_idling</td>\n",
              "    </tr>\n",
              "    <tr>\n",
              "      <th>1</th>\n",
              "      <td>/content/UrbanSound8K/fold8/155313-3-0-0.wav</td>\n",
              "      <td>dog_bark</td>\n",
              "      <td>jackhammer</td>\n",
              "      <td>dog_bark</td>\n",
              "    </tr>\n",
              "    <tr>\n",
              "      <th>2</th>\n",
              "      <td>/content/UrbanSound8K/fold8/162433-6-1-0.wav</td>\n",
              "      <td>gun_shot</td>\n",
              "      <td>drilling</td>\n",
              "      <td>gun_shot</td>\n",
              "    </tr>\n",
              "    <tr>\n",
              "      <th>3</th>\n",
              "      <td>/content/UrbanSound8K/fold8/36429-2-0-7.wav</td>\n",
              "      <td>children_playing</td>\n",
              "      <td>jackhammer</td>\n",
              "      <td>children_playing</td>\n",
              "    </tr>\n",
              "    <tr>\n",
              "      <th>4</th>\n",
              "      <td>/content/UrbanSound8K/fold8/39967-9-0-56.wav</td>\n",
              "      <td>street_music</td>\n",
              "      <td>drilling</td>\n",
              "      <td>street_music</td>\n",
              "    </tr>\n",
              "  </tbody>\n",
              "</table>\n",
              "</div>\n",
              "    <div class=\"colab-df-buttons\">\n",
              "\n",
              "  <div class=\"colab-df-container\">\n",
              "    <button class=\"colab-df-convert\" onclick=\"convertToInteractive('df-fb436ab2-41e9-42c3-a95d-94956980dea2')\"\n",
              "            title=\"Convert this dataframe to an interactive table.\"\n",
              "            style=\"display:none;\">\n",
              "\n",
              "  <svg xmlns=\"http://www.w3.org/2000/svg\" height=\"24px\" viewBox=\"0 -960 960 960\">\n",
              "    <path d=\"M120-120v-720h720v720H120Zm60-500h600v-160H180v160Zm220 220h160v-160H400v160Zm0 220h160v-160H400v160ZM180-400h160v-160H180v160Zm440 0h160v-160H620v160ZM180-180h160v-160H180v160Zm440 0h160v-160H620v160Z\"/>\n",
              "  </svg>\n",
              "    </button>\n",
              "\n",
              "  <style>\n",
              "    .colab-df-container {\n",
              "      display:flex;\n",
              "      gap: 12px;\n",
              "    }\n",
              "\n",
              "    .colab-df-convert {\n",
              "      background-color: #E8F0FE;\n",
              "      border: none;\n",
              "      border-radius: 50%;\n",
              "      cursor: pointer;\n",
              "      display: none;\n",
              "      fill: #1967D2;\n",
              "      height: 32px;\n",
              "      padding: 0 0 0 0;\n",
              "      width: 32px;\n",
              "    }\n",
              "\n",
              "    .colab-df-convert:hover {\n",
              "      background-color: #E2EBFA;\n",
              "      box-shadow: 0px 1px 2px rgba(60, 64, 67, 0.3), 0px 1px 3px 1px rgba(60, 64, 67, 0.15);\n",
              "      fill: #174EA6;\n",
              "    }\n",
              "\n",
              "    .colab-df-buttons div {\n",
              "      margin-bottom: 4px;\n",
              "    }\n",
              "\n",
              "    [theme=dark] .colab-df-convert {\n",
              "      background-color: #3B4455;\n",
              "      fill: #D2E3FC;\n",
              "    }\n",
              "\n",
              "    [theme=dark] .colab-df-convert:hover {\n",
              "      background-color: #434B5C;\n",
              "      box-shadow: 0px 1px 3px 1px rgba(0, 0, 0, 0.15);\n",
              "      filter: drop-shadow(0px 1px 2px rgba(0, 0, 0, 0.3));\n",
              "      fill: #FFFFFF;\n",
              "    }\n",
              "  </style>\n",
              "\n",
              "    <script>\n",
              "      const buttonEl =\n",
              "        document.querySelector('#df-fb436ab2-41e9-42c3-a95d-94956980dea2 button.colab-df-convert');\n",
              "      buttonEl.style.display =\n",
              "        google.colab.kernel.accessAllowed ? 'block' : 'none';\n",
              "\n",
              "      async function convertToInteractive(key) {\n",
              "        const element = document.querySelector('#df-fb436ab2-41e9-42c3-a95d-94956980dea2');\n",
              "        const dataTable =\n",
              "          await google.colab.kernel.invokeFunction('convertToInteractive',\n",
              "                                                    [key], {});\n",
              "        if (!dataTable) return;\n",
              "\n",
              "        const docLinkHtml = 'Like what you see? Visit the ' +\n",
              "          '<a target=\"_blank\" href=https://colab.research.google.com/notebooks/data_table.ipynb>data table notebook</a>'\n",
              "          + ' to learn more about interactive tables.';\n",
              "        element.innerHTML = '';\n",
              "        dataTable['output_type'] = 'display_data';\n",
              "        await google.colab.output.renderOutput(dataTable, element);\n",
              "        const docLink = document.createElement('div');\n",
              "        docLink.innerHTML = docLinkHtml;\n",
              "        element.appendChild(docLink);\n",
              "      }\n",
              "    </script>\n",
              "  </div>\n",
              "\n",
              "\n",
              "<div id=\"df-4483616a-4e76-4e3e-815b-b50616a50da7\">\n",
              "  <button class=\"colab-df-quickchart\" onclick=\"quickchart('df-4483616a-4e76-4e3e-815b-b50616a50da7')\"\n",
              "            title=\"Suggest charts\"\n",
              "            style=\"display:none;\">\n",
              "\n",
              "<svg xmlns=\"http://www.w3.org/2000/svg\" height=\"24px\"viewBox=\"0 0 24 24\"\n",
              "     width=\"24px\">\n",
              "    <g>\n",
              "        <path d=\"M19 3H5c-1.1 0-2 .9-2 2v14c0 1.1.9 2 2 2h14c1.1 0 2-.9 2-2V5c0-1.1-.9-2-2-2zM9 17H7v-7h2v7zm4 0h-2V7h2v10zm4 0h-2v-4h2v4z\"/>\n",
              "    </g>\n",
              "</svg>\n",
              "  </button>\n",
              "\n",
              "<style>\n",
              "  .colab-df-quickchart {\n",
              "      --bg-color: #E8F0FE;\n",
              "      --fill-color: #1967D2;\n",
              "      --hover-bg-color: #E2EBFA;\n",
              "      --hover-fill-color: #174EA6;\n",
              "      --disabled-fill-color: #AAA;\n",
              "      --disabled-bg-color: #DDD;\n",
              "  }\n",
              "\n",
              "  [theme=dark] .colab-df-quickchart {\n",
              "      --bg-color: #3B4455;\n",
              "      --fill-color: #D2E3FC;\n",
              "      --hover-bg-color: #434B5C;\n",
              "      --hover-fill-color: #FFFFFF;\n",
              "      --disabled-bg-color: #3B4455;\n",
              "      --disabled-fill-color: #666;\n",
              "  }\n",
              "\n",
              "  .colab-df-quickchart {\n",
              "    background-color: var(--bg-color);\n",
              "    border: none;\n",
              "    border-radius: 50%;\n",
              "    cursor: pointer;\n",
              "    display: none;\n",
              "    fill: var(--fill-color);\n",
              "    height: 32px;\n",
              "    padding: 0;\n",
              "    width: 32px;\n",
              "  }\n",
              "\n",
              "  .colab-df-quickchart:hover {\n",
              "    background-color: var(--hover-bg-color);\n",
              "    box-shadow: 0 1px 2px rgba(60, 64, 67, 0.3), 0 1px 3px 1px rgba(60, 64, 67, 0.15);\n",
              "    fill: var(--button-hover-fill-color);\n",
              "  }\n",
              "\n",
              "  .colab-df-quickchart-complete:disabled,\n",
              "  .colab-df-quickchart-complete:disabled:hover {\n",
              "    background-color: var(--disabled-bg-color);\n",
              "    fill: var(--disabled-fill-color);\n",
              "    box-shadow: none;\n",
              "  }\n",
              "\n",
              "  .colab-df-spinner {\n",
              "    border: 2px solid var(--fill-color);\n",
              "    border-color: transparent;\n",
              "    border-bottom-color: var(--fill-color);\n",
              "    animation:\n",
              "      spin 1s steps(1) infinite;\n",
              "  }\n",
              "\n",
              "  @keyframes spin {\n",
              "    0% {\n",
              "      border-color: transparent;\n",
              "      border-bottom-color: var(--fill-color);\n",
              "      border-left-color: var(--fill-color);\n",
              "    }\n",
              "    20% {\n",
              "      border-color: transparent;\n",
              "      border-left-color: var(--fill-color);\n",
              "      border-top-color: var(--fill-color);\n",
              "    }\n",
              "    30% {\n",
              "      border-color: transparent;\n",
              "      border-left-color: var(--fill-color);\n",
              "      border-top-color: var(--fill-color);\n",
              "      border-right-color: var(--fill-color);\n",
              "    }\n",
              "    40% {\n",
              "      border-color: transparent;\n",
              "      border-right-color: var(--fill-color);\n",
              "      border-top-color: var(--fill-color);\n",
              "    }\n",
              "    60% {\n",
              "      border-color: transparent;\n",
              "      border-right-color: var(--fill-color);\n",
              "    }\n",
              "    80% {\n",
              "      border-color: transparent;\n",
              "      border-right-color: var(--fill-color);\n",
              "      border-bottom-color: var(--fill-color);\n",
              "    }\n",
              "    90% {\n",
              "      border-color: transparent;\n",
              "      border-bottom-color: var(--fill-color);\n",
              "    }\n",
              "  }\n",
              "</style>\n",
              "\n",
              "  <script>\n",
              "    async function quickchart(key) {\n",
              "      const quickchartButtonEl =\n",
              "        document.querySelector('#' + key + ' button');\n",
              "      quickchartButtonEl.disabled = true;  // To prevent multiple clicks.\n",
              "      quickchartButtonEl.classList.add('colab-df-spinner');\n",
              "      try {\n",
              "        const charts = await google.colab.kernel.invokeFunction(\n",
              "            'suggestCharts', [key], {});\n",
              "      } catch (error) {\n",
              "        console.error('Error during call to suggestCharts:', error);\n",
              "      }\n",
              "      quickchartButtonEl.classList.remove('colab-df-spinner');\n",
              "      quickchartButtonEl.classList.add('colab-df-quickchart-complete');\n",
              "    }\n",
              "    (() => {\n",
              "      let quickchartButtonEl =\n",
              "        document.querySelector('#df-4483616a-4e76-4e3e-815b-b50616a50da7 button');\n",
              "      quickchartButtonEl.style.display =\n",
              "        google.colab.kernel.accessAllowed ? 'block' : 'none';\n",
              "    })();\n",
              "  </script>\n",
              "</div>\n",
              "\n",
              "  <div id=\"id_b7d0bdda-5832-499b-818b-2a53364bd4c8\">\n",
              "    <style>\n",
              "      .colab-df-generate {\n",
              "        background-color: #E8F0FE;\n",
              "        border: none;\n",
              "        border-radius: 50%;\n",
              "        cursor: pointer;\n",
              "        display: none;\n",
              "        fill: #1967D2;\n",
              "        height: 32px;\n",
              "        padding: 0 0 0 0;\n",
              "        width: 32px;\n",
              "      }\n",
              "\n",
              "      .colab-df-generate:hover {\n",
              "        background-color: #E2EBFA;\n",
              "        box-shadow: 0px 1px 2px rgba(60, 64, 67, 0.3), 0px 1px 3px 1px rgba(60, 64, 67, 0.15);\n",
              "        fill: #174EA6;\n",
              "      }\n",
              "\n",
              "      [theme=dark] .colab-df-generate {\n",
              "        background-color: #3B4455;\n",
              "        fill: #D2E3FC;\n",
              "      }\n",
              "\n",
              "      [theme=dark] .colab-df-generate:hover {\n",
              "        background-color: #434B5C;\n",
              "        box-shadow: 0px 1px 3px 1px rgba(0, 0, 0, 0.15);\n",
              "        filter: drop-shadow(0px 1px 2px rgba(0, 0, 0, 0.3));\n",
              "        fill: #FFFFFF;\n",
              "      }\n",
              "    </style>\n",
              "    <button class=\"colab-df-generate\" onclick=\"generateWithVariable('df')\"\n",
              "            title=\"Generate code using this dataframe.\"\n",
              "            style=\"display:none;\">\n",
              "\n",
              "  <svg xmlns=\"http://www.w3.org/2000/svg\" height=\"24px\"viewBox=\"0 0 24 24\"\n",
              "       width=\"24px\">\n",
              "    <path d=\"M7,19H8.4L18.45,9,17,7.55,7,17.6ZM5,21V16.75L18.45,3.32a2,2,0,0,1,2.83,0l1.4,1.43a1.91,1.91,0,0,1,.58,1.4,1.91,1.91,0,0,1-.58,1.4L9.25,21ZM18.45,9,17,7.55Zm-12,3A5.31,5.31,0,0,0,4.9,8.1,5.31,5.31,0,0,0,1,6.5,5.31,5.31,0,0,0,4.9,4.9,5.31,5.31,0,0,0,6.5,1,5.31,5.31,0,0,0,8.1,4.9,5.31,5.31,0,0,0,12,6.5,5.46,5.46,0,0,0,6.5,12Z\"/>\n",
              "  </svg>\n",
              "    </button>\n",
              "    <script>\n",
              "      (() => {\n",
              "      const buttonEl =\n",
              "        document.querySelector('#id_b7d0bdda-5832-499b-818b-2a53364bd4c8 button.colab-df-generate');\n",
              "      buttonEl.style.display =\n",
              "        google.colab.kernel.accessAllowed ? 'block' : 'none';\n",
              "\n",
              "      buttonEl.onclick = () => {\n",
              "        google.colab.notebook.generateWithVariable('df');\n",
              "      }\n",
              "      })();\n",
              "    </script>\n",
              "  </div>\n",
              "\n",
              "    </div>\n",
              "  </div>\n"
            ],
            "application/vnd.google.colaboratory.intrinsic+json": {
              "type": "dataframe",
              "variable_name": "df",
              "summary": "{\n  \"name\": \"df\",\n  \"rows\": 5,\n  \"fields\": [\n    {\n      \"column\": \"Filename\",\n      \"properties\": {\n        \"dtype\": \"string\",\n        \"num_unique_values\": 5,\n        \"samples\": [\n          \"/content/UrbanSound8K/fold8/155313-3-0-0.wav\",\n          \"/content/UrbanSound8K/fold8/39967-9-0-56.wav\",\n          \"/content/UrbanSound8K/fold8/162433-6-1-0.wav\"\n        ],\n        \"semantic_type\": \"\",\n        \"description\": \"\"\n      }\n    },\n    {\n      \"column\": \"True Label\",\n      \"properties\": {\n        \"dtype\": \"string\",\n        \"num_unique_values\": 5,\n        \"samples\": [\n          \"dog_bark\",\n          \"street_music\",\n          \"gun_shot\"\n        ],\n        \"semantic_type\": \"\",\n        \"description\": \"\"\n      }\n    },\n    {\n      \"column\": \"Old Prediction\",\n      \"properties\": {\n        \"dtype\": \"category\",\n        \"num_unique_values\": 2,\n        \"samples\": [\n          \"jackhammer\",\n          \"drilling\"\n        ],\n        \"semantic_type\": \"\",\n        \"description\": \"\"\n      }\n    },\n    {\n      \"column\": \"New Prediction\",\n      \"properties\": {\n        \"dtype\": \"string\",\n        \"num_unique_values\": 5,\n        \"samples\": [\n          \"dog_bark\",\n          \"street_music\"\n        ],\n        \"semantic_type\": \"\",\n        \"description\": \"\"\n      }\n    }\n  ]\n}"
            }
          },
          "metadata": {}
        }
      ]
    },
    {
      "cell_type": "code",
      "source": [],
      "metadata": {
        "id": "lGX2Hvl_ggga"
      },
      "execution_count": null,
      "outputs": []
    }
  ]
}