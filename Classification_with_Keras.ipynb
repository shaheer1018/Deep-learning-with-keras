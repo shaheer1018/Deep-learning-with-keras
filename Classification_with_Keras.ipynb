{
  "nbformat": 4,
  "nbformat_minor": 0,
  "metadata": {
    "colab": {
      "provenance": []
    },
    "kernelspec": {
      "name": "python3",
      "display_name": "Python 3"
    },
    "language_info": {
      "name": "python"
    }
  },
  "cells": [
    {
      "cell_type": "code",
      "execution_count": 2,
      "metadata": {
        "id": "I2tKnRZVmMKj"
      },
      "outputs": [],
      "source": [
        "import keras\n",
        "\n",
        "from keras.models import Sequential\n",
        "from keras.layers import Dense\n",
        "from keras.utils import to_categorical"
      ]
    },
    {
      "cell_type": "code",
      "source": [
        "import matplotlib.pyplot as plt"
      ],
      "metadata": {
        "id": "hKZtugfHnQ_J"
      },
      "execution_count": 3,
      "outputs": []
    },
    {
      "cell_type": "markdown",
      "source": [
        "# Fetch Data"
      ],
      "metadata": {
        "id": "2BbqtG8KnxJP"
      }
    },
    {
      "cell_type": "code",
      "source": [
        "from keras.datasets import mnist\n",
        "\n",
        "# read the data\n",
        "(X_train, y_train), (X_test, y_test) = mnist.load_data()"
      ],
      "metadata": {
        "colab": {
          "base_uri": "https://localhost:8080/"
        },
        "id": "IclydxuKnoSh",
        "outputId": "f76b1c35-4781-4f9b-c950-7e7e6715ab20"
      },
      "execution_count": 4,
      "outputs": [
        {
          "output_type": "stream",
          "name": "stdout",
          "text": [
            "Downloading data from https://storage.googleapis.com/tensorflow/tf-keras-datasets/mnist.npz\n",
            "11490434/11490434 [==============================] - 0s 0us/step\n"
          ]
        }
      ]
    },
    {
      "cell_type": "code",
      "source": [
        "X_train.shape"
      ],
      "metadata": {
        "colab": {
          "base_uri": "https://localhost:8080/"
        },
        "id": "qAQIaqujotm7",
        "outputId": "114666be-5488-44fd-eaba-447ca0d71572"
      },
      "execution_count": 5,
      "outputs": [
        {
          "output_type": "execute_result",
          "data": {
            "text/plain": [
              "(60000, 28, 28)"
            ]
          },
          "metadata": {},
          "execution_count": 5
        }
      ]
    },
    {
      "cell_type": "markdown",
      "source": [
        "#### The first number in the output tuple is the number of images, and the other two numbers are the size of the images in datset. So, each image is 28 pixels by 28 pixels."
      ],
      "metadata": {
        "id": "xhd5pxAipV6O"
      }
    },
    {
      "cell_type": "code",
      "source": [
        "print(plt.imshow(X_train[2]))"
      ],
      "metadata": {
        "colab": {
          "base_uri": "https://localhost:8080/",
          "height": 467
        },
        "id": "Ndn2Df7UovxB",
        "outputId": "8030e104-8639-49ae-8dd1-9b2c0bfc8c40"
      },
      "execution_count": 6,
      "outputs": [
        {
          "output_type": "stream",
          "name": "stdout",
          "text": [
            "AxesImage(size=(28, 28))\n"
          ]
        },
        {
          "output_type": "display_data",
          "data": {
            "text/plain": [
              "<Figure size 640x480 with 1 Axes>"
            ],
            "image/png": "[encoded data removed]"
          },
          "metadata": {}
        }
      ]
    },
    {
      "cell_type": "markdown",
      "source": [
        "#### With conventional neural networks, we cannot feed in the image as input as is. So we need to flatten the images into one-dimensional vectors, each of size 1 x (28 x 28) = 1 x 784."
      ],
      "metadata": {
        "id": "t4ZJwEvoqbzu"
      }
    },
    {
      "cell_type": "code",
      "source": [
        "# flatten images into one-dimensional vector\n",
        "\n",
        "num_pixels = X_train.shape[1] * X_train.shape[2]\n",
        "\n",
        "# flattening training images\n",
        "X_train = X_train.reshape(X_train.shape[0], num_pixels).astype('float32')\n",
        "# flattening test images\n",
        "X_test = X_test.reshape(X_test.shape[0], num_pixels).astype('float32')"
      ],
      "metadata": {
        "id": "7tHLFJ3fqOhQ"
      },
      "execution_count": 7,
      "outputs": []
    },
    {
      "cell_type": "code",
      "source": [
        "# normalize inputs from 0-255 to 0-1\n",
        "X_train = X_train / 255\n",
        "X_test = X_test / 255"
      ],
      "metadata": {
        "id": "-LjqA-CNriCy"
      },
      "execution_count": 8,
      "outputs": []
    },
    {
      "cell_type": "markdown",
      "source": [
        "#### Before we start building our model, remember that for classification we need to divide our target variable into categories. We use the to_categorical function from the Keras Utilities package."
      ],
      "metadata": {
        "id": "Dz_Jh0xytgIA"
      }
    },
    {
      "cell_type": "code",
      "source": [
        "# one hot encode outputs\n",
        "y_train = to_categorical(y_train)\n",
        "y_test = to_categorical(y_test)\n",
        "\n",
        "num_classes = y_test.shape[1]"
      ],
      "metadata": {
        "id": "XY4762JDrjO6"
      },
      "execution_count": 9,
      "outputs": []
    },
    {
      "cell_type": "code",
      "source": [
        "print(num_classes)"
      ],
      "metadata": {
        "colab": {
          "base_uri": "https://localhost:8080/"
        },
        "id": "03DZXUqruXQ_",
        "outputId": "723b3fa7-e339-4d4a-c245-ecd11767db64"
      },
      "execution_count": 10,
      "outputs": [
        {
          "output_type": "stream",
          "name": "stdout",
          "text": [
            "10\n"
          ]
        }
      ]
    },
    {
      "cell_type": "markdown",
      "source": [
        "# Build a Neural Network"
      ],
      "metadata": {
        "id": "UyGmlLugwitN"
      }
    },
    {
      "cell_type": "code",
      "source": [
        "# define classification model\n",
        "def classification_model():\n",
        "  # create model\n",
        "  model = Sequential()\n",
        "  model.add(Dense(num_pixels, activation = 'relu', input_shape = (num_pixels, )))\n",
        "  model.add(Dense(100, activation = 'relu'))\n",
        "  model.add(Dense(num_classes, activation = 'softmax'))\n",
        "\n",
        "  # compile model\n",
        "  model.compile(optimizer = 'adam', loss = 'categorical_crossentropy', metrics = ['accuracy'])\n",
        "\n",
        "  return model"
      ],
      "metadata": {
        "id": "C3FonNmKuY65"
      },
      "execution_count": 11,
      "outputs": []
    },
    {
      "cell_type": "code",
      "source": [
        "X_train.shape"
      ],
      "metadata": {
        "colab": {
          "base_uri": "https://localhost:8080/"
        },
        "id": "B9DLUPBWukLS",
        "outputId": "36ba111a-319d-4d18-b920-dbb2a0dd1fb2"
      },
      "execution_count": 12,
      "outputs": [
        {
          "output_type": "execute_result",
          "data": {
            "text/plain": [
              "(60000, 784)"
            ]
          },
          "metadata": {},
          "execution_count": 12
        }
      ]
    },
    {
      "cell_type": "markdown",
      "source": [
        "# Train and test the network"
      ],
      "metadata": {
        "id": "s9QlOAL308A_"
      }
    },
    {
      "cell_type": "code",
      "source": [
        "# build the model\n",
        "model = classification_model()\n",
        "\n",
        "# fit the model\n",
        "model.fit(X_train, y_train, validation_data = (X_test, y_test), epochs = 10, verbose = 2)\n",
        "\n",
        "# evaluate the model\n",
        "scores = model.evaluate(X_test, y_test, verbose = 0)"
      ],
      "metadata": {
        "colab": {
          "base_uri": "https://localhost:8080/"
        },
        "id": "etr2srvb0EiD",
        "outputId": "c6f0aac6-361b-4a7a-8158-1206f5635294"
      },
      "execution_count": 13,
      "outputs": [
        {
          "output_type": "stream",
          "name": "stdout",
          "text": [
            "Epoch 1/10\n",
            "1875/1875 - 28s - loss: 0.1855 - accuracy: 0.9445 - val_loss: 0.1247 - val_accuracy: 0.9600 - 28s/epoch - 15ms/step\n",
            "Epoch 2/10\n",
            "1875/1875 - 21s - loss: 0.0804 - accuracy: 0.9748 - val_loss: 0.0696 - val_accuracy: 0.9774 - 21s/epoch - 11ms/step\n",
            "Epoch 3/10\n",
            "1875/1875 - 19s - loss: 0.0539 - accuracy: 0.9829 - val_loss: 0.0641 - val_accuracy: 0.9810 - 19s/epoch - 10ms/step\n",
            "Epoch 4/10\n",
            "1875/1875 - 22s - loss: 0.0408 - accuracy: 0.9870 - val_loss: 0.0703 - val_accuracy: 0.9802 - 22s/epoch - 12ms/step\n",
            "Epoch 5/10\n",
            "1875/1875 - 19s - loss: 0.0319 - accuracy: 0.9901 - val_loss: 0.0820 - val_accuracy: 0.9776 - 19s/epoch - 10ms/step\n",
            "Epoch 6/10\n",
            "1875/1875 - 20s - loss: 0.0247 - accuracy: 0.9921 - val_loss: 0.0719 - val_accuracy: 0.9817 - 20s/epoch - 11ms/step\n",
            "Epoch 7/10\n",
            "1875/1875 - 20s - loss: 0.0246 - accuracy: 0.9921 - val_loss: 0.0736 - val_accuracy: 0.9815 - 20s/epoch - 11ms/step\n",
            "Epoch 8/10\n",
            "1875/1875 - 21s - loss: 0.0195 - accuracy: 0.9938 - val_loss: 0.0880 - val_accuracy: 0.9794 - 21s/epoch - 11ms/step\n",
            "Epoch 9/10\n",
            "1875/1875 - 19s - loss: 0.0196 - accuracy: 0.9938 - val_loss: 0.0750 - val_accuracy: 0.9828 - 19s/epoch - 10ms/step\n",
            "Epoch 10/10\n",
            "1875/1875 - 21s - loss: 0.0156 - accuracy: 0.9947 - val_loss: 0.0749 - val_accuracy: 0.9842 - 21s/epoch - 11ms/step\n"
          ]
        }
      ]
    },
    {
      "cell_type": "code",
      "source": [
        "print(f\"Accuracy: {scores[1]}%  \\n Error: {1-scores[1]}\")"
      ],
      "metadata": {
        "colab": {
          "base_uri": "https://localhost:8080/"
        },
        "id": "vYc013xsl-yJ",
        "outputId": "f10f66a1-d89f-4832-9b7a-d861b44d1d99"
      },
      "execution_count": 14,
      "outputs": [
        {
          "output_type": "stream",
          "name": "stdout",
          "text": [
            "Accuracy: 0.9842000007629395%  \n",
            " Error: 0.015799999237060547\n"
          ]
        }
      ]
    },
    {
      "cell_type": "code",
      "source": [
        "model.save('classification_model.h5')"
      ],
      "metadata": {
        "colab": {
          "base_uri": "https://localhost:8080/"
        },
        "id": "w3kXVj9ImSwQ",
        "outputId": "0715d834-71b4-4491-8686-5c9d0d12c37b"
      },
      "execution_count": 15,
      "outputs": [
        {
          "output_type": "stream",
          "name": "stderr",
          "text": [
            "/usr/local/lib/python3.10/dist-packages/keras/src/engine/training.py:3103: UserWarning: You are saving your model as an HDF5 file via `model.save()`. This file format is considered legacy. We recommend using instead the native Keras format, e.g. `model.save('my_model.keras')`.\n",
            "  saving_api.save_model(\n"
          ]
        }
      ]
    },
    {
      "cell_type": "code",
      "source": [
        "from keras.models import load_model"
      ],
      "metadata": {
        "id": "ILKfDqqlmahv"
      },
      "execution_count": 16,
      "outputs": []
    },
    {
      "cell_type": "code",
      "source": [
        "pre_trained_model = load_model('classification_model.h5')"
      ],
      "metadata": {
        "id": "MbkvIXk1oU75"
      },
      "execution_count": 17,
      "outputs": []
    },
    {
      "cell_type": "code",
      "source": [
        "print(pre_trained_model)"
      ],
      "metadata": {
        "colab": {
          "base_uri": "https://localhost:8080/"
        },
        "id": "GZxf0bTsohlp",
        "outputId": "0d052897-0b69-4155-99cf-8b68a998e637"
      },
      "execution_count": 18,
      "outputs": [
        {
          "output_type": "stream",
          "name": "stdout",
          "text": [
            "<keras.src.engine.sequential.Sequential object at 0x7b47af0375e0>\n"
          ]
        }
      ]
    },
    {
      "cell_type": "code",
      "source": [],
      "metadata": {
        "id": "AlkKtg39qgMS"
      },
      "execution_count": null,
      "outputs": []
    }
  ]
}