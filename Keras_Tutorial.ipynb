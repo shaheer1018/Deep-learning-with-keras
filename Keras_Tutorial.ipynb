{
  "nbformat": 4,
  "nbformat_minor": 0,
  "metadata": {
    "colab": {
      "provenance": []
    },
    "kernelspec": {
      "name": "python3",
      "display_name": "Python 3"
    },
    "language_info": {
      "name": "python"
    }
  },
  "cells": [
    {
      "cell_type": "code",
      "execution_count": 1,
      "metadata": {
        "id": "vwu401oGkoXp"
      },
      "outputs": [],
      "source": [
        "import numpy as np\n",
        "from random import randint\n",
        "from sklearn.utils import shuffle\n",
        "from sklearn.preprocessing import MinMaxScaler"
      ]
    },
    {
      "cell_type": "code",
      "source": [
        "train_labels = []\n",
        "train_samples = []"
      ],
      "metadata": {
        "id": "QzENzLLgmWYZ"
      },
      "execution_count": 2,
      "outputs": []
    },
    {
      "cell_type": "code",
      "source": [
        "for i in range(50):\n",
        "  # The ~5% of younger individuals who did experience side effects\n",
        "  random_younger = randint(13, 64)\n",
        "  train_samples.append(random_younger)\n",
        "  train_labels.append(1)\n",
        "\n",
        "  # The ~5% of older individuals who did not experience side effects\n",
        "  random_older = randint(65, 100)\n",
        "  train_samples.append(random_older)\n",
        "  train_labels.append(0)\n",
        "\n",
        "\n",
        "for i in range(1000):\n",
        "  # The ~95% of younger individuals who did not experience side effects\n",
        "  random_younger = randint(13, 64)\n",
        "  train_samples.append(random_younger)\n",
        "  train_labels.append(0)\n",
        "\n",
        "  # The ~95% of older individuals who did experience side effects\n",
        "  random_older = randint(65, 100)\n",
        "  train_samples.append(random_older)\n",
        "  train_labels.append(1)"
      ],
      "metadata": {
        "id": "zKSwBn-mmas6"
      },
      "execution_count": 3,
      "outputs": []
    },
    {
      "cell_type": "code",
      "source": [
        "print(len(train_labels))"
      ],
      "metadata": {
        "colab": {
          "base_uri": "https://localhost:8080/"
        },
        "id": "iFtM7TK1o0iD",
        "outputId": "e2775713-a7a0-4351-e492-b358fff58f4b"
      },
      "execution_count": 4,
      "outputs": [
        {
          "output_type": "stream",
          "name": "stdout",
          "text": [
            "2100\n"
          ]
        }
      ]
    },
    {
      "cell_type": "code",
      "source": [
        "print(len(train_samples))"
      ],
      "metadata": {
        "colab": {
          "base_uri": "https://localhost:8080/"
        },
        "id": "pF7Sl7XGo6ds",
        "outputId": "7051ebb2-6a26-4277-dd07-90eee359ba5a"
      },
      "execution_count": 5,
      "outputs": [
        {
          "output_type": "stream",
          "name": "stdout",
          "text": [
            "2100\n"
          ]
        }
      ]
    },
    {
      "cell_type": "code",
      "source": [
        "print(train_samples[:5])"
      ],
      "metadata": {
        "colab": {
          "base_uri": "https://localhost:8080/"
        },
        "id": "lSl9hpbDo8FM",
        "outputId": "e10dc903-12f3-4045-bc9d-92b2dee79bec"
      },
      "execution_count": 6,
      "outputs": [
        {
          "output_type": "stream",
          "name": "stdout",
          "text": [
            "[41, 77, 35, 65, 55]\n"
          ]
        }
      ]
    },
    {
      "cell_type": "code",
      "source": [
        "train_labels = np.array(train_labels)\n",
        "train_samples = np.array(train_samples)\n",
        "train_labels, train_samples = shuffle(train_labels, train_samples)"
      ],
      "metadata": {
        "id": "n0K-eP0vDIiV"
      },
      "execution_count": 7,
      "outputs": []
    },
    {
      "cell_type": "code",
      "source": [
        "scaler = MinMaxScaler(feature_range = (0, 1))\n",
        "scaled_train_samples = scaler.fit_transform(train_samples.reshape(-1, 1))"
      ],
      "metadata": {
        "id": "6WjjhtEaHCGJ"
      },
      "execution_count": 8,
      "outputs": []
    },
    {
      "cell_type": "code",
      "source": [
        "print(scaled_train_samples)"
      ],
      "metadata": {
        "colab": {
          "base_uri": "https://localhost:8080/"
        },
        "id": "8MvcQM7YHrdE",
        "outputId": "3461231e-1b71-423b-b4a3-a77b20fba5f2"
      },
      "execution_count": 9,
      "outputs": [
        {
          "output_type": "stream",
          "name": "stdout",
          "text": [
            "[[0.36781609]\n",
            " [0.83908046]\n",
            " [0.77011494]\n",
            " ...\n",
            " [0.77011494]\n",
            " [0.63218391]\n",
            " [0.48275862]]\n"
          ]
        }
      ]
    },
    {
      "cell_type": "code",
      "source": [
        "import tensorflow as tf\n",
        "from tensorflow import keras\n",
        "from tensorflow.keras.models import Sequential\n",
        "from tensorflow.keras.layers import Activation, Dense\n",
        "from tensorflow.keras.optimizers import Adam"
      ],
      "metadata": {
        "id": "aGiZG5QxH524"
      },
      "execution_count": 17,
      "outputs": []
    },
    {
      "cell_type": "code",
      "source": [
        "model = Sequential([\n",
        "        Dense(units=16, input_shape=(1,), activation='relu'),\n",
        "        Dense(units=32, activation='relu'),\n",
        "        Dense(units=2, activation='softmax')\n",
        "])"
      ],
      "metadata": {
        "id": "_ynAdHgYID8G"
      },
      "execution_count": 13,
      "outputs": []
    },
    {
      "cell_type": "code",
      "source": [
        "model.summary()"
      ],
      "metadata": {
        "colab": {
          "base_uri": "https://localhost:8080/"
        },
        "id": "yY_zahsDTIq_",
        "outputId": "ef4ac64a-00dc-4dda-b232-84805b3843e7"
      },
      "execution_count": 14,
      "outputs": [
        {
          "output_type": "stream",
          "name": "stdout",
          "text": [
            "Model: \"sequential\"\n",
            "_________________________________________________________________\n",
            " Layer (type)                Output Shape              Param #   \n",
            "=================================================================\n",
            " dense (Dense)               (None, 16)                32        \n",
            "                                                                 \n",
            " dense_1 (Dense)             (None, 32)                544       \n",
            "                                                                 \n",
            " dense_2 (Dense)             (None, 2)                 66        \n",
            "                                                                 \n",
            "=================================================================\n",
            "Total params: 642 (2.51 KB)\n",
            "Trainable params: 642 (2.51 KB)\n",
            "Non-trainable params: 0 (0.00 Byte)\n",
            "_________________________________________________________________\n"
          ]
        }
      ]
    },
    {
      "cell_type": "code",
      "source": [
        "model.compile(optimizer = Adam(learning_rate = 0.0001), loss = 'sparse_categorical_crossentropy', metrics = ['accuracy'])"
      ],
      "metadata": {
        "id": "9qfkCoKtTRDF"
      },
      "execution_count": 19,
      "outputs": []
    },
    {
      "cell_type": "code",
      "source": [
        "model.fit(x=scaled_train_samples, y=train_labels, validation_split=0.1, batch_size=10, shuffle=True, epochs=30, verbose=2)"
      ],
      "metadata": {
        "colab": {
          "base_uri": "https://localhost:8080/"
        },
        "id": "bpJVURZ_Uh_Z",
        "outputId": "62e29f90-72e6-425c-9b36-7a4f6a7bb283"
      },
      "execution_count": 20,
      "outputs": [
        {
          "output_type": "stream",
          "name": "stdout",
          "text": [
            "Epoch 1/30\n",
            "189/189 - 1s - loss: 0.6843 - accuracy: 0.5349 - val_loss: 0.6624 - val_accuracy: 0.6381 - 1s/epoch - 8ms/step\n",
            "Epoch 2/30\n",
            "189/189 - 0s - loss: 0.6554 - accuracy: 0.6339 - val_loss: 0.6238 - val_accuracy: 0.7238 - 426ms/epoch - 2ms/step\n",
            "Epoch 3/30\n",
            "189/189 - 0s - loss: 0.6248 - accuracy: 0.6942 - val_loss: 0.5912 - val_accuracy: 0.7667 - 406ms/epoch - 2ms/step\n",
            "Epoch 4/30\n",
            "189/189 - 0s - loss: 0.5960 - accuracy: 0.7307 - val_loss: 0.5599 - val_accuracy: 0.7905 - 422ms/epoch - 2ms/step\n",
            "Epoch 5/30\n",
            "189/189 - 0s - loss: 0.5682 - accuracy: 0.7582 - val_loss: 0.5294 - val_accuracy: 0.8048 - 434ms/epoch - 2ms/step\n",
            "Epoch 6/30\n",
            "189/189 - 0s - loss: 0.5403 - accuracy: 0.7905 - val_loss: 0.5003 - val_accuracy: 0.8238 - 457ms/epoch - 2ms/step\n",
            "Epoch 7/30\n",
            "189/189 - 0s - loss: 0.5129 - accuracy: 0.8101 - val_loss: 0.4726 - val_accuracy: 0.8476 - 421ms/epoch - 2ms/step\n",
            "Epoch 8/30\n",
            "189/189 - 0s - loss: 0.4857 - accuracy: 0.8317 - val_loss: 0.4470 - val_accuracy: 0.8667 - 354ms/epoch - 2ms/step\n",
            "Epoch 9/30\n",
            "189/189 - 0s - loss: 0.4596 - accuracy: 0.8582 - val_loss: 0.4222 - val_accuracy: 0.8857 - 371ms/epoch - 2ms/step\n",
            "Epoch 10/30\n",
            "189/189 - 1s - loss: 0.4349 - accuracy: 0.8746 - val_loss: 0.3982 - val_accuracy: 0.8905 - 560ms/epoch - 3ms/step\n",
            "Epoch 11/30\n",
            "189/189 - 1s - loss: 0.4120 - accuracy: 0.8794 - val_loss: 0.3789 - val_accuracy: 0.9143 - 547ms/epoch - 3ms/step\n",
            "Epoch 12/30\n",
            "189/189 - 1s - loss: 0.3914 - accuracy: 0.8952 - val_loss: 0.3602 - val_accuracy: 0.9143 - 549ms/epoch - 3ms/step\n",
            "Epoch 13/30\n",
            "189/189 - 1s - loss: 0.3733 - accuracy: 0.9016 - val_loss: 0.3426 - val_accuracy: 0.9238 - 581ms/epoch - 3ms/step\n",
            "Epoch 14/30\n",
            "189/189 - 1s - loss: 0.3573 - accuracy: 0.9074 - val_loss: 0.3283 - val_accuracy: 0.9238 - 587ms/epoch - 3ms/step\n",
            "Epoch 15/30\n",
            "189/189 - 1s - loss: 0.3436 - accuracy: 0.9106 - val_loss: 0.3179 - val_accuracy: 0.9286 - 641ms/epoch - 3ms/step\n",
            "Epoch 16/30\n",
            "189/189 - 0s - loss: 0.3318 - accuracy: 0.9185 - val_loss: 0.3073 - val_accuracy: 0.9333 - 491ms/epoch - 3ms/step\n",
            "Epoch 17/30\n",
            "189/189 - 0s - loss: 0.3218 - accuracy: 0.9164 - val_loss: 0.2994 - val_accuracy: 0.9333 - 383ms/epoch - 2ms/step\n",
            "Epoch 18/30\n",
            "189/189 - 0s - loss: 0.3135 - accuracy: 0.9275 - val_loss: 0.2912 - val_accuracy: 0.9381 - 424ms/epoch - 2ms/step\n",
            "Epoch 19/30\n",
            "189/189 - 0s - loss: 0.3065 - accuracy: 0.9296 - val_loss: 0.2853 - val_accuracy: 0.9381 - 390ms/epoch - 2ms/step\n",
            "Epoch 20/30\n",
            "189/189 - 0s - loss: 0.3002 - accuracy: 0.9323 - val_loss: 0.2795 - val_accuracy: 0.9381 - 366ms/epoch - 2ms/step\n",
            "Epoch 21/30\n",
            "189/189 - 0s - loss: 0.2950 - accuracy: 0.9317 - val_loss: 0.2761 - val_accuracy: 0.9333 - 359ms/epoch - 2ms/step\n",
            "Epoch 22/30\n",
            "189/189 - 0s - loss: 0.2906 - accuracy: 0.9349 - val_loss: 0.2715 - val_accuracy: 0.9333 - 354ms/epoch - 2ms/step\n",
            "Epoch 23/30\n",
            "189/189 - 0s - loss: 0.2867 - accuracy: 0.9354 - val_loss: 0.2686 - val_accuracy: 0.9333 - 398ms/epoch - 2ms/step\n",
            "Epoch 24/30\n",
            "189/189 - 0s - loss: 0.2833 - accuracy: 0.9381 - val_loss: 0.2642 - val_accuracy: 0.9333 - 351ms/epoch - 2ms/step\n",
            "Epoch 25/30\n",
            "189/189 - 0s - loss: 0.2805 - accuracy: 0.9376 - val_loss: 0.2617 - val_accuracy: 0.9333 - 370ms/epoch - 2ms/step\n",
            "Epoch 26/30\n",
            "189/189 - 0s - loss: 0.2780 - accuracy: 0.9392 - val_loss: 0.2586 - val_accuracy: 0.9333 - 341ms/epoch - 2ms/step\n",
            "Epoch 27/30\n",
            "189/189 - 0s - loss: 0.2755 - accuracy: 0.9376 - val_loss: 0.2581 - val_accuracy: 0.9333 - 348ms/epoch - 2ms/step\n",
            "Epoch 28/30\n",
            "189/189 - 0s - loss: 0.2734 - accuracy: 0.9402 - val_loss: 0.2552 - val_accuracy: 0.9333 - 351ms/epoch - 2ms/step\n",
            "Epoch 29/30\n",
            "189/189 - 0s - loss: 0.2716 - accuracy: 0.9392 - val_loss: 0.2531 - val_accuracy: 0.9333 - 350ms/epoch - 2ms/step\n",
            "Epoch 30/30\n",
            "189/189 - 0s - loss: 0.2699 - accuracy: 0.9392 - val_loss: 0.2520 - val_accuracy: 0.9333 - 342ms/epoch - 2ms/step\n"
          ]
        },
        {
          "output_type": "execute_result",
          "data": {
            "text/plain": [
              "<keras.src.callbacks.History at 0x7970f833a8c0>"
            ]
          },
          "metadata": {},
          "execution_count": 20
        }
      ]
    },
    {
      "cell_type": "code",
      "source": [
        "test_labels = []\n",
        "test_samples = []"
      ],
      "metadata": {
        "id": "gvu2PubkVjAU"
      },
      "execution_count": 21,
      "outputs": []
    },
    {
      "cell_type": "code",
      "source": [
        "for i in range(10):\n",
        "  # The 5% of younger individuals who did experience side effects\n",
        "  random_younger = randint(13, 64)\n",
        "  test_samples.append(random_older)\n",
        "  test_labels.append(1)\n",
        "\n",
        "  # The 5% of older individuals who did not experience side effects\n",
        "  random_older = randint(65, 100)\n",
        "  test_samples.append(random_older)\n",
        "  test_labels.append(0)\n",
        "\n",
        "\n",
        "for i in range(200):\n",
        "  # The 95% of younger individuals who did not experience side effects\n",
        "  random_younger = randint(13, 64)\n",
        "  test_samples.append(random_younger)\n",
        "  test_labels.append(0)\n",
        "\n",
        "  # The 95% of older individuals who did experience side effects\n",
        "  random_older = randint(65, 100)\n",
        "  test_samples.append(random_older)\n",
        "  test_labels.append(1)"
      ],
      "metadata": {
        "id": "bxp-gldNXtb_"
      },
      "execution_count": 22,
      "outputs": []
    },
    {
      "cell_type": "code",
      "source": [
        "test_labels = np.array(test_labels)\n",
        "test_samples = np.array(test_samples)\n",
        "\n",
        "test_labels, test_samples = shuffle(test_labels, test_samples)"
      ],
      "metadata": {
        "id": "kq7hXrX6Z0Cu"
      },
      "execution_count": 23,
      "outputs": []
    },
    {
      "cell_type": "code",
      "source": [
        "scaled_test_samples = scaler.fit_transform(test_samples.reshape(-1,1))"
      ],
      "metadata": {
        "id": "fKp3SB0naJ7n"
      },
      "execution_count": 24,
      "outputs": []
    },
    {
      "cell_type": "code",
      "source": [
        "predictions = model.predict(x=scaled_test_samples, batch_size=10, verbose=0)"
      ],
      "metadata": {
        "id": "Diy3f5wpaWvQ"
      },
      "execution_count": 25,
      "outputs": []
    },
    {
      "cell_type": "code",
      "source": [
        "# for i in predictions:\n",
        "#   print(i)\n",
        "print(predictions[0])"
      ],
      "metadata": {
        "colab": {
          "base_uri": "https://localhost:8080/"
        },
        "id": "qsUxrsiqbpef",
        "outputId": "18afe5eb-9876-4d43-a6e6-3d31f4e849d0"
      },
      "execution_count": 32,
      "outputs": [
        {
          "output_type": "stream",
          "name": "stdout",
          "text": [
            "[0.92249125 0.07750873]\n"
          ]
        }
      ]
    },
    {
      "cell_type": "code",
      "source": [
        "rounded_predictions = np.argmax(predictions, axis = -1)"
      ],
      "metadata": {
        "id": "0-F-NLLjbvyT"
      },
      "execution_count": 29,
      "outputs": []
    },
    {
      "cell_type": "code",
      "source": [
        "print(rounded_predictions)"
      ],
      "metadata": {
        "colab": {
          "base_uri": "https://localhost:8080/"
        },
        "id": "2Cjwd9Z-cmHV",
        "outputId": "de690f2a-6ec8-4f65-a589-2caa973dc83b"
      },
      "execution_count": 30,
      "outputs": [
        {
          "output_type": "stream",
          "name": "stdout",
          "text": [
            "[0 1 0 0 1 1 0 1 0 1 1 1 0 0 1 1 1 0 1 1 1 1 1 0 1 0 0 1 1 0 1 1 1 0 0 1 1\n",
            " 0 1 1 0 0 1 1 1 1 1 0 0 1 0 0 0 1 0 1 1 0 1 1 1 1 0 1 0 0 0 0 1 1 1 1 1 1\n",
            " 0 0 0 1 1 0 1 0 0 1 1 0 1 1 1 1 0 0 1 1 1 1 0 0 1 0 0 0 0 0 0 0 1 0 0 0 1\n",
            " 0 1 0 1 1 0 1 1 0 0 1 1 1 1 0 0 0 1 1 0 1 0 1 1 1 0 1 0 0 1 0 1 1 0 0 1 1\n",
            " 0 0 1 0 1 0 0 1 1 1 0 1 1 0 1 0 1 1 1 1 1 0 0 1 1 1 1 0 1 1 1 0 0 1 0 0 0\n",
            " 1 1 1 0 0 1 1 1 1 0 0 1 1 1 1 0 1 1 1 1 0 1 0 1 1 0 0 0 0 0 1 1 1 0 0 0 1\n",
            " 0 1 0 0 1 0 0 1 1 0 0 0 1 1 1 1 1 1 1 1 1 0 0 1 0 0 0 1 0 1 0 0 1 1 0 1 1\n",
            " 0 0 1 1 1 1 0 0 0 1 0 1 1 1 1 1 0 1 0 1 1 0 0 1 0 1 1 1 0 1 1 0 1 0 1 0 0\n",
            " 1 0 1 0 1 1 1 0 0 0 0 1 1 0 0 0 1 0 1 0 1 1 1 1 1 1 0 1 1 0 1 1 1 1 1 1 0\n",
            " 1 1 0 1 1 0 1 1 1 1 1 0 0 0 0 1 0 1 1 0 1 0 1 1 1 1 1 1 0 0 0 1 1 0 0 1 0\n",
            " 1 0 0 0 0 0 1 0 1 0 0 0 0 1 0 1 1 1 0 1 1 1 1 1 0 1 0 0 1 0 0 0 1 1 0 0 1\n",
            " 0 0 0 0 0 0 0 0 0 0 1 0 0]\n"
          ]
        }
      ]
    },
    {
      "cell_type": "code",
      "source": [
        "%matplotlib inline\n",
        "from sklearn.metrics import confusion_matrix\n",
        "import itertools\n",
        "import matplotlib.pyplot as plt"
      ],
      "metadata": {
        "id": "h49n2d5Oco7h"
      },
      "execution_count": 34,
      "outputs": []
    },
    {
      "cell_type": "code",
      "source": [
        "cm = confusion_matrix(y_true = test_labels, y_pred = rounded_predictions)"
      ],
      "metadata": {
        "id": "d2injZGHdWRZ"
      },
      "execution_count": 35,
      "outputs": []
    },
    {
      "cell_type": "code",
      "source": [
        "def plot_confusion_matrix(cm, classes, normalize = False, title = 'Confusion Matrix', cmap = plt.cm.Blues):\n",
        "\n",
        "  \"\"\" This function prints and plots the confusion matrix.\n",
        "      Normalization can be applied by setting normalize = 'True'. \"\"\"\n",
        "\n",
        "  plt.imshow(cm, interpolation = 'nearest', cmap=cmap)\n",
        "  plt.title(title)\n",
        "  plt.colorbar()\n",
        "  tick_marks = np.arange(len(classes))\n",
        "  plt.xticks(tick_marks, classes, rotation = 45)\n",
        "  plt.yticks(tick_marks, classes)\n",
        "\n",
        "  if normalize:\n",
        "    cm = cm.astype('float') / cm.sum(axis=1)[:, np.newaxis]\n",
        "    print('Normalized confusion matrix.')\n",
        "  else:\n",
        "    print('Confusion matrix, without normalization')\n",
        "\n",
        "  print(cm)\n",
        "\n",
        "  thresh = cm.max()/2\n",
        "  for i, j in itertools.product(range(cm.shape[0]), range(cm.shape[1])):\n",
        "    plt.text(j, i, cm[i, j], horizontalalignment = 'center', color = 'white' if cm[i, j] > thresh else 'black')\n",
        "\n",
        "  plt.tight_layout()\n",
        "  plt.ylabel('True label')\n",
        "  plt.xlabel('Predicted label')"
      ],
      "metadata": {
        "id": "y7P5-0f3d7ee"
      },
      "execution_count": 36,
      "outputs": []
    },
    {
      "cell_type": "code",
      "source": [
        "cm_plot_labels = ['no_side_effects', 'had_side_effects']\n",
        "plot_confusion_matrix(cm=cm, classes=cm_plot_labels, title = 'Confusion Matrix')"
      ],
      "metadata": {
        "colab": {
          "base_uri": "https://localhost:8080/",
          "height": 578
        },
        "id": "Stb4SJAkhJF2",
        "outputId": "af1b8fd0-8116-4c6f-9ec1-c9fd58671445"
      },
      "execution_count": 37,
      "outputs": [
        {
          "output_type": "stream",
          "name": "stdout",
          "text": [
            "Confusion matrix, without normalization\n",
            "[[191  19]\n",
            " [  0 210]]\n"
          ]
        },
        {
          "output_type": "display_data",
          "data": {
            "text/plain": [
              "<Figure size 640x480 with 2 Axes>"
            ],
            "image/png": "[encoded data removed]"
          },
          "metadata": {}
        }
      ]
    },
    {
      "cell_type": "code",
      "source": [],
      "metadata": {
        "id": "NV5L--Iohqj9"
      },
      "execution_count": null,
      "outputs": []
    }
  ]
}